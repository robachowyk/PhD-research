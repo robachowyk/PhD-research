{
 "cells": [
  {
   "attachments": {},
   "cell_type": "markdown",
   "metadata": {},
   "source": [
    "### Do simulations and replicate MEV algorithm"
   ]
  },
  {
   "cell_type": "code",
   "execution_count": 1,
   "metadata": {},
   "outputs": [],
   "source": [
    "import numpy as np\n",
    "import pickle\n",
    "import os\n",
    "import pandas as pds\n",
    "import datetime\n",
    "import textdistance\n",
    "from sklearn import mixture\n",
    "import statsmodels.api as sm\n",
    "import seaborn as sns\n",
    "from matplotlib import pyplot as plt\n",
    "from tqdm import tqdm\n",
    "import time"
   ]
  },
  {
   "attachments": {},
   "cell_type": "markdown",
   "metadata": {},
   "source": [
    "### Algorithm"
   ]
  },
  {
   "cell_type": "code",
   "execution_count": 23,
   "metadata": {},
   "outputs": [],
   "source": [
    "def levenshtein_similarity(a,b):\n",
    "\n",
    "    \"\"\" Check that levenshtein similarity (in [0,1]) is above 0.95.\n",
    "        \n",
    "        a: string,\n",
    "        b: string \"\"\"\n",
    "\n",
    "    if 1 - textdistance.levenshtein(a, b)/max(len(a),len(b)) >= 0.95:\n",
    "        return 1\n",
    "    else:\n",
    "        return 0\n",
    "\n",
    "def jaro_winkler_similarity(a,b):\n",
    "\n",
    "    \"\"\" Check that jaro-winkler similarity (in [0,1]) is above 0.95.\n",
    "        \n",
    "        a: string,\n",
    "        b: string \"\"\"\n",
    "\n",
    "    if textdistance.jaro_winkler(a,b) >= 0.99:\n",
    "        return 1\n",
    "    else:\n",
    "        return 0\n",
    "\n",
    "def strict_equality(a,b):\n",
    "\n",
    "    \"\"\" Check that a and b values are equal.\n",
    "        \n",
    "        a: any value,\n",
    "        b: any value \"\"\"\n",
    "\n",
    "    return a==b\n",
    "\n",
    "def large_equality(a,b):\n",
    "\n",
    "    \"\"\" Check that years a and b expressed with four numbers are within the same decade.\n",
    "        \n",
    "        a: year,\n",
    "        b: year \"\"\"\n",
    "\n",
    "    return str(a)[:-1]==str(b)[:-1]\n",
    "\n",
    "def comparison_vector(A_record, B, identifiers):\n",
    "    \n",
    "    \"\"\" Compare one record in A with all records in B. \n",
    "        Return the binary comparison of the identifiers for one record in A with all records in B.\n",
    "\n",
    "        A_record:     series of one row, \n",
    "        B:            dataframe, \n",
    "        identifiers:  dict: k = column name, \n",
    "                            v = method in {'large','strict','levenshtein','jaro-winkler'}\n",
    "    \"\"\"\n",
    "\n",
    "    methods = {'jaro-winkler':jaro_winkler_similarity, 'levenshtein':levenshtein_similarity, 'strict':strict_equality, 'large':large_equality}\n",
    "    comparisons = {}\n",
    "    for linking_var in identifiers:\n",
    "        method = methods[identifiers[linking_var]]\n",
    "        comparisons[linking_var] = np.array(B.apply(lambda row: method(A_record[linking_var], row[linking_var]), axis=1)).reshape(-1,1)\n",
    "    return np.concatenate(tuple(comparisons.values()), axis = 1) \n",
    "\n",
    "\n",
    "def linking_score(A, B, identifiers, match, unmatch):\n",
    "        \n",
    "    \"\"\" Compare records in A with records in B, computing all linking scores for records in A with records in B. \n",
    "        Return the indices of records in A with the best match index for record in B.\n",
    "\n",
    "        A:            dataframe, \n",
    "        B:            dataframe, \n",
    "        identifiers:  dict: k = column name, \n",
    "                            v = method in {'large','strict','levenshtein','jaro-winkler'}\n",
    "        match:        array of probabilities of having same linking variables when being a match,\n",
    "        unmatch:      array of probabilities of having same linking variables (at all, among the nA x nB pairs of record).\n",
    "    \"\"\"\n",
    "\n",
    "    def compute_max_linking_score(A_record, B, identifiers, match, unmatch):\n",
    "        similarities = comparison_vector(A_record, B, identifiers)\n",
    "        if similarities.all(axis=1).sum() == 1: # there is one unique match: possible true match\n",
    "            return B.iloc[similarities.all(axis=1),:].index[0], np.NaN\n",
    "        else:\n",
    "            linking_score = (np.multiply(similarities, np.log2(match/unmatch)) + np.multiply(1-similarities, np.log2((1-match)/(1-unmatch)))).sum(axis=1)\n",
    "            return linking_score.argmax(), linking_score.max() # assign the first element of the argmax set A REVOIR\n",
    "\n",
    "    links = A.apply(lambda row: compute_max_linking_score(row[list(identifiers.keys())], B, identifiers, match, unmatch), axis=1)\n",
    "    idx_in_A = np.arange(A.shape[0])\n",
    "    idx_in_B = np.array([element[0] for element in links])\n",
    "    matching_scores = np.array([element[1] for element in links])\n",
    "    max_score = np.nanmax(matching_scores)\n",
    "    matching_scores = np.nan_to_num(matching_scores, nan=max_score+1) # possible true matches are given a higher score\n",
    "    return {'A':idx_in_A, 'B':idx_in_B, 'scores':matching_scores}\n",
    "\n",
    "def stratified_ATE(DF_group, pop_size):\n",
    "\n",
    "    \"\"\" Compute the Average Treatment Effect on the specific stratum represented in DF_group.\n",
    "\n",
    "        DF_group: dataframe,\n",
    "        pop_size: size of the entire population from which the group comes from. \n",
    "    \"\"\"\n",
    "\n",
    "    n_treated, n_untreated = DF_group[DF_group.treatment == 1].shape[0], DF_group[DF_group.treatment == 0].shape[0]\n",
    "    assert (n_treated!=0)&(n_untreated!=0), (\"One group among treated/untreated is empty with this stratification.\")\n",
    "    avg_outcome_treated = (DF_group.treatment * DF_group.Y).sum() / n_treated \n",
    "    avg_outcome_untreated = ((1 - DF_group.treatment) * DF_group.Y).sum() / n_untreated\n",
    "    var_treated = ( (DF_group.treatment * DF_group.Y - avg_outcome_treated)**2 ).sum() / (n_treated - 1)\n",
    "    var_untreated = ( ((1 - DF_group.treatment) * DF_group.Y - avg_outcome_untreated)**2 ).sum() / (n_untreated - 1)\n",
    "    size_group = DF_group.shape[0]\n",
    "    ATE_group = (size_group/pop_size) * (avg_outcome_treated - avg_outcome_untreated)\n",
    "    variance_group = (size_group/pop_size)**2 * (var_untreated/n_untreated + var_treated/n_treated)\n",
    "    return ATE_group, variance_group\n",
    "\n",
    "def logit(p):\n",
    "    return np.log(p/(1-p))\n",
    "\n",
    "def minmaxscaler(X):\n",
    "    return (X - X.min(axis=0)) / (X.max(axis=0) - X.min(axis=0))\n",
    "\n",
    "def propensity_score(DF, covariates, scaler, convert_to_logit):\n",
    "    \n",
    "    \"\"\" Compute propensity score estimates: the probability (logistic regression) that an observation is treated or not conditioned on some covariates.\n",
    "        These estimates are built conditionaly on covariates passed using a logit after transformation by scaler (when one is specified).\n",
    "        Estimated probabilities can be converted into logit (convert_to_logit parameter).\n",
    "\n",
    "        DF:                dataframe,\n",
    "        covariates:        list of strings for covariates variable in DF,\n",
    "        scaler:            sklearn.preprocessing function scaler for exemple,\n",
    "        convert_to_logit:  boolean for converting probabilities to logit when building the propensity score estimates based on a logistic regression\n",
    "    \"\"\"\n",
    "    exog = covariates.copy()\n",
    "    if scaler != None:\n",
    "        DF[exog] = scaler(DF[exog])\n",
    "    if 'intercept' not in DF.columns:\n",
    "        DF['intercept'] = 1\n",
    "    exog.append('intercept')\n",
    "    model = sm.Logit(DF.treatment, DF[exog]).fit()\n",
    "    predictions = model.predict(DF[exog])\n",
    "    if convert_to_logit:\n",
    "        return logit(predictions)\n",
    "    else: \n",
    "        return predictions\n",
    "\n",
    "def ATE(DF, strata):\n",
    "    \n",
    "    \"\"\" Compute the Average Treatment Effect in DF according to the stratification method:\n",
    "        no stratification when strata is None, \n",
    "        stratified dataframe build based on the list of specific covariates when one is passed,\n",
    "        or propensity score stratification.\n",
    "        propensity score estimates and propensity score quantiles assignment should be already built for this last method.\n",
    "        \n",
    "        DF:                dataframe,\n",
    "        strata:            value in {None, [...], 'propensity stratification'}\n",
    "                           [...] variables to compute the strata on.\n",
    "    \"\"\"\n",
    "    \n",
    "    pop_size = DF.shape[0]\n",
    "    if strata == None: # no stratification\n",
    "        return stratified_ATE(DF, pop_size)\n",
    "    elif strata == 'propensity stratification': # propensity score stratification\n",
    "        assert ('propensity_score' in DF.columns)&('prop_score_quantile' in DF.columns), (\"For propensity score stratification you need first to add the propensity_score and prop_score_quantile columns into the dataframe.\")\n",
    "        ATE, variance = 0, 0\n",
    "        for q in DF['prop_score_quantile'].unique():\n",
    "            stratum_data = DF[DF['prop_score_quantile'] == q]\n",
    "            ATE_stratum, variance_stratum = stratified_ATE(stratum_data, pop_size)\n",
    "            ATE += ATE_stratum\n",
    "            variance += variance_stratum\n",
    "        return ATE, variance\n",
    "    else: # stratification based on the covariates passed\n",
    "        ATE, variance = 0, 0\n",
    "        for stratum in DF.groupby(strata):\n",
    "            stratum_id, stratum_data = stratum\n",
    "            ATE_stratum, variance_stratum = stratified_ATE(stratum_data, pop_size)\n",
    "            ATE += ATE_stratum\n",
    "            variance += variance_stratum\n",
    "        return ATE, variance\n",
    "\n",
    "def Minimum_Estimated_Variance(A, B, identifiers, match, unmatch):\n",
    "\n",
    "    \"\"\" Compare records in A with records in B, computing all linking scores for records in A with records in B. \n",
    "        Return the indices of records in A with the best match index for record in B.\n",
    "\n",
    "        A: dataframe, \n",
    "        B: dataframe, \n",
    "        identifiers: dict: k = column name, v = method in {'large','strict','levenshtein','jaro-winkler',\n",
    "        match: array of probabilities of having same linking variables when being a match,\n",
    "        unmatch: array of probabilities of having same linking variables (at all, among the nA x nB pairs of record)\n",
    "    \"\"\"\n",
    "\n",
    "    ATE_list = []\n",
    "    Var_list = []\n",
    "    n_list = []\n",
    "    matchings = linking_score(A, B, identifiers, match, unmatch)\n",
    "    for score in np.sort(np.unique(matchings['scores']))[::-1]:\n",
    "        best_matches = matchings['scores'] >= score\n",
    "        from_A = A.iloc[best_matches,:].reset_index(drop=True)\n",
    "        from_B = B.iloc[matchings['B'][best_matches],:].reset_index(drop=True)\n",
    "        linked_records = pds.concat([from_A, from_B.Y], axis=1)\n",
    "        n = linked_records.shape[0]\n",
    "        ATE_links, variance_links = ATE(linked_records, 'propensity stratification')\n",
    "        ATE_list.append(ATE_links)\n",
    "        Var_list.append(variance_links)\n",
    "        n_list.append(n)\n",
    "    return ATE_list, Var_list, n_list"
   ]
  },
  {
   "attachments": {},
   "cell_type": "markdown",
   "metadata": {},
   "source": [
    "### Generates association and launch algorithm, build confidence intervals"
   ]
  },
  {
   "cell_type": "code",
   "execution_count": 24,
   "metadata": {},
   "outputs": [],
   "source": [
    "nbr_iter = 10 # ~ 3 minutes per iteration for the following"
   ]
  },
  {
   "cell_type": "code",
   "execution_count": 49,
   "metadata": {},
   "outputs": [
    {
     "name": "stderr",
     "output_type": "stream",
     "text": [
      "  0%|          | 0/10 [00:00<?, ?it/s]"
     ]
    },
    {
     "name": "stdout",
     "output_type": "stream",
     "text": [
      "Optimization terminated successfully.\n",
      "         Current function value: 0.635578\n",
      "         Iterations 5\n"
     ]
    },
    {
     "name": "stderr",
     "output_type": "stream",
     "text": [
      " 10%|█         | 1/10 [03:10<28:30, 190.04s/it]"
     ]
    },
    {
     "name": "stdout",
     "output_type": "stream",
     "text": [
      "Optimization terminated successfully.\n",
      "         Current function value: 0.635773\n",
      "         Iterations 5\n"
     ]
    },
    {
     "name": "stderr",
     "output_type": "stream",
     "text": [
      " 20%|██        | 2/10 [06:21<25:25, 190.70s/it]"
     ]
    },
    {
     "name": "stdout",
     "output_type": "stream",
     "text": [
      "Optimization terminated successfully.\n",
      "         Current function value: 0.651941\n",
      "         Iterations 5\n"
     ]
    },
    {
     "name": "stderr",
     "output_type": "stream",
     "text": [
      " 30%|███       | 3/10 [09:32<22:15, 190.79s/it]"
     ]
    },
    {
     "name": "stdout",
     "output_type": "stream",
     "text": [
      "Optimization terminated successfully.\n",
      "         Current function value: 0.629871\n",
      "         Iterations 5\n"
     ]
    },
    {
     "name": "stderr",
     "output_type": "stream",
     "text": [
      " 40%|████      | 4/10 [12:45<19:10, 191.78s/it]"
     ]
    },
    {
     "name": "stdout",
     "output_type": "stream",
     "text": [
      "Optimization terminated successfully.\n",
      "         Current function value: 0.634328\n",
      "         Iterations 5\n"
     ]
    },
    {
     "name": "stderr",
     "output_type": "stream",
     "text": [
      " 50%|█████     | 5/10 [15:57<16:00, 192.06s/it]"
     ]
    },
    {
     "name": "stdout",
     "output_type": "stream",
     "text": [
      "Optimization terminated successfully.\n",
      "         Current function value: 0.635363\n",
      "         Iterations 5\n"
     ]
    },
    {
     "name": "stderr",
     "output_type": "stream",
     "text": [
      " 60%|██████    | 6/10 [19:08<12:46, 191.56s/it]"
     ]
    },
    {
     "name": "stdout",
     "output_type": "stream",
     "text": [
      "Optimization terminated successfully.\n",
      "         Current function value: 0.634485\n",
      "         Iterations 5\n"
     ]
    },
    {
     "name": "stderr",
     "output_type": "stream",
     "text": [
      " 70%|███████   | 7/10 [22:19<09:34, 191.38s/it]"
     ]
    },
    {
     "name": "stdout",
     "output_type": "stream",
     "text": [
      "Optimization terminated successfully.\n",
      "         Current function value: 0.627523\n",
      "         Iterations 5\n"
     ]
    },
    {
     "name": "stderr",
     "output_type": "stream",
     "text": [
      " 80%|████████  | 8/10 [25:31<06:22, 191.41s/it]"
     ]
    },
    {
     "name": "stdout",
     "output_type": "stream",
     "text": [
      "Optimization terminated successfully.\n",
      "         Current function value: 0.632447\n",
      "         Iterations 5\n"
     ]
    },
    {
     "name": "stderr",
     "output_type": "stream",
     "text": [
      " 90%|█████████ | 9/10 [28:44<03:12, 192.04s/it]"
     ]
    },
    {
     "name": "stdout",
     "output_type": "stream",
     "text": [
      "Optimization terminated successfully.\n",
      "         Current function value: 0.623546\n",
      "         Iterations 5\n"
     ]
    },
    {
     "name": "stderr",
     "output_type": "stream",
     "text": [
      "100%|██████████| 10/10 [31:54<00:00, 191.47s/it]\n"
     ]
    }
   ],
   "source": [
    "name_DF = 'DF_N=4401_2023-01-16.csv'\n",
    "DF = pds.read_csv(os.path.join('..', '..', 'datasets', name_DF), delimiter = ',')\n",
    "DF = DF[~DF.duplicated()] # delete duplicates\n",
    "DF = DF.dropna() # delete NaN values\n",
    "DF['was_born_female'] = DF['was_born_female'].astype('int32') # turn was_born_female into int type (once Nan values have been removed)\n",
    "\n",
    "identifiers = {'family_name':'jaro-winkler','was_born_female':'strict','country':'strict','birth_year':'large'}\n",
    "covariates = ['X1','X2','X3','X4','X5']\n",
    "\n",
    "results = pds.DataFrame({\"set\":np.array([]), \"iter\":np.array([]), \"n\":np.array([]), \"variance\":np.array([]), \"ate\":np.array([])})\n",
    "\n",
    "for i in tqdm(range(nbr_iter)):\n",
    "\n",
    "    ########## GENERATES ASSOCIATION ##########\n",
    "\n",
    "    # generate covariates\n",
    "    DF['X1'] = 2020 - DF['birth_year'] # age\n",
    "    DF['X2'] = np.random.normal(loc = 2.5, scale = 1, size = DF.shape[0])\n",
    "    DF['X3'] = np.random.normal(loc = 0, scale = 1, size = DF.shape[0])\n",
    "    DF['X4'] = np.random.normal(loc = 1, scale = 1, size = DF.shape[0])\n",
    "    DF['X5'] = np.random.normal(loc = 1, scale = 1, size = DF.shape[0])\n",
    "\n",
    "    # generate treatment\n",
    "    DF['treatment'] = np.random.binomial(n = 1, p = 1 / ( 1 + np.exp(0.2*DF.X3-0.5*DF.X5) )) \n",
    "    # probability depending on X3 and X5 (better than only X3)\n",
    "\n",
    "    # generate outcome\n",
    "    residual_errors = np.random.normal(size = DF.shape[0])\n",
    "    a = 5.5\n",
    "    b = 0.01\n",
    "    c = 0.08\n",
    "    d = 0.7\n",
    "\n",
    "    DF['Y'] = - 10 + a*DF['treatment'] + b*np.exp(DF['X4']) + c*DF['X3']*DF['X1'] + d*DF['X5'] ### FIXED TREATMENT EFFECT\n",
    "    #DF['Y'] = - 10 + a*DF['treatment']*DF['X2'] + b*np.exp(DF['X4']) + c*DF['X3']*DF['X1'] + d*DF['X5'] ### NOT FIXED TREATMENT EFFECT\n",
    "\n",
    "    overlap = DF.sample(n = 800)\n",
    "\n",
    "    A = pds.concat([DF.sample(n = 1400), overlap]).drop(['Y'], axis = 1)\n",
    "    A = A.reset_index(drop=True)\n",
    "\n",
    "    B = pds.concat([DF.sample(n = 2000), overlap])[list(identifiers.keys())+['Y']]\n",
    "    B = B.reset_index(drop=True)\n",
    "\n",
    "    ########## ETSR Algorithm ##########\n",
    "\n",
    "    # Parameters\n",
    "    # match:    probability of having same linking var when being true matches\n",
    "    # unmatch:  probability of having same linking var (at all)\n",
    "\n",
    "    match = np.repeat(0.95, len(identifiers.keys()))\n",
    "    unmatch = A.apply(lambda row: comparison_vector(row, B, identifiers).sum(axis=0), axis=1).sum() / (A.shape[0]*B.shape[0]) # for each A record and for each linking variable, we check 'the probability' to match (over the nA * nB pairs)\n",
    "\n",
    "    A['propensity_score'] = propensity_score(A, covariates, minmaxscaler, True)\n",
    "    q = 5 # recommended: 5\n",
    "    A['prop_score_quantile'] = pds.qcut(A['propensity_score'], q, labels = False)\n",
    "\n",
    "    list_of_ATE, list_of_variance, list_of_n = Minimum_Estimated_Variance(A, B, identifiers, match, unmatch)\n",
    "\n",
    "    length = len(list_of_ATE)\n",
    "    new_results = pds.DataFrame({\"set\":np.arange(length), \"iter\":np.repeat(i, length), \"n\":np.array(list_of_n), \"variance\":np.array(list_of_variance), \"ate\":np.array(list_of_ATE)})\n",
    "    results = pds.concat([results, new_results])"
   ]
  },
  {
   "cell_type": "code",
   "execution_count": 50,
   "metadata": {},
   "outputs": [
    {
     "data": {
      "image/png": "[encoded data removed]",
      "text/plain": [
       "<Figure size 1200x500 with 1 Axes>"
      ]
     },
     "metadata": {},
     "output_type": "display_data"
    },
    {
     "data": {
      "image/png": "[encoded data removed]",
      "text/plain": [
       "<Figure size 1200x500 with 1 Axes>"
      ]
     },
     "metadata": {},
     "output_type": "display_data"
    }
   ],
   "source": [
    "darkorange = (0.804, 0.4, 0)\n",
    "airforceblue = (0.36, 0.54, 0.66)\n",
    "\n",
    "plt.figure(figsize=(12,5))\n",
    "graph = sns.lineplot(data = results, x = \"set\", y = \"variance\", color = airforceblue);\n",
    "for i in range(len(results.set.unique())):\n",
    "    n = results[results.set==i].n.mean()\n",
    "    graph.annotate( rf\"N $\\approx$ {int(n)}\", xy = (i, results[results.set==i].variance.mean()), horizontalalignment ='center', fontsize=8)\n",
    "plt.title(\"\");\n",
    "plt.show();\n",
    "\n",
    "plt.figure(figsize=(12,5))\n",
    "sns.lineplot(data = results, x = \"set\", y = \"ate\", color = airforceblue);\n",
    "plt.axhline(y = a, color = darkorange); # fixed treatment effect = a, non-fixed treatment effect = E(X2) * a = 2.5 * a\n",
    "plt.title(\"\");\n",
    "plt.show();"
   ]
  },
  {
   "cell_type": "code",
   "execution_count": null,
   "metadata": {},
   "outputs": [],
   "source": []
  }
 ],
 "metadata": {
  "kernelspec": {
   "display_name": "tester",
   "language": "python",
   "name": "python3"
  },
  "language_info": {
   "codemirror_mode": {
    "name": "ipython",
    "version": 3
   },
   "file_extension": ".py",
   "mimetype": "text/x-python",
   "name": "python",
   "nbconvert_exporter": "python",
   "pygments_lexer": "ipython3",
   "version": "3.10.6 (main, Oct 24 2022, 11:04:07) [Clang 12.0.0 ]"
  },
  "orig_nbformat": 4,
  "vscode": {
   "interpreter": {
    "hash": "b95706f4894ee4355943f31879e0e3a76d825289e1bc7e0d16bc1dcbc4ba3b09"
   }
  }
 },
 "nbformat": 4,
 "nbformat_minor": 2
}
