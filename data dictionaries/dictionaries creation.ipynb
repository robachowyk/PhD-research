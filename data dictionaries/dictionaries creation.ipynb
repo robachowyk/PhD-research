{
 "cells": [
  {
   "cell_type": "code",
   "execution_count": 1,
   "metadata": {},
   "outputs": [],
   "source": [
    "import numpy as np\n",
    "import pickle\n",
    "import os\n",
    "import pandas as pds"
   ]
  },
  {
   "cell_type": "code",
   "execution_count": 2,
   "metadata": {},
   "outputs": [],
   "source": [
    "from countries_code import codes\n",
    "\n",
    "sorted_countries_code = {key: value for key, value in sorted(codes.items())}\n",
    "\n",
    "with open('european_countries_code.pkl', 'wb') as f:\n",
    "    pickle.dump(sorted_countries_code, f)\n",
    "\n",
    "from countries_age import ages\n",
    "\n",
    "sorted_countries_age = {key: value for key, value in sorted(ages.items())}\n",
    "\n",
    "with open('european_countries_age.pkl', 'wb') as f:\n",
    "    pickle.dump(sorted_countries_age, f)\n",
    "\n",
    "from countries_population import populations\n",
    "\n",
    "sorted_countries_pop = {key: value for key, value in sorted(populations.items())}\n",
    "\n",
    "total = np.sum(list(sorted_countries_pop.values()))\n",
    "\n",
    "sorted_countries_pop = {k:float(\"{:.5e}\".format(v/total)) for k,v in sorted_countries_pop.items()}\n",
    "\n",
    "with open('european_countries_pop.pkl', 'wb') as f:\n",
    "    pickle.dump(sorted_countries_pop, f)"
   ]
  },
  {
   "cell_type": "code",
   "execution_count": 3,
   "metadata": {},
   "outputs": [
    {
     "name": "stdout",
     "output_type": "stream",
     "text": [
      "True True\n"
     ]
    }
   ],
   "source": [
    "# checking\n",
    "print( np.all( list(sorted_countries_age.keys()) == list(sorted_countries_pop.keys()) ), np.all( list(sorted_countries_age.keys()) == list(sorted_countries_code.keys()) ) )"
   ]
  }
 ],
 "metadata": {
  "kernelspec": {
   "display_name": "tester",
   "language": "python",
   "name": "python3"
  },
  "language_info": {
   "codemirror_mode": {
    "name": "ipython",
    "version": 3
   },
   "file_extension": ".py",
   "mimetype": "text/x-python",
   "name": "python",
   "nbconvert_exporter": "python",
   "pygments_lexer": "ipython3",
   "version": "3.10.6"
  },
  "orig_nbformat": 4,
  "vscode": {
   "interpreter": {
    "hash": "b95706f4894ee4355943f31879e0e3a76d825289e1bc7e0d16bc1dcbc4ba3b09"
   }
  }
 },
 "nbformat": 4,
 "nbformat_minor": 2
}
