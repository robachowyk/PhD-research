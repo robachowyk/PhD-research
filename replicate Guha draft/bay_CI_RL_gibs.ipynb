{
 "cells": [
  {
   "cell_type": "code",
   "execution_count": 1,
   "metadata": {},
   "outputs": [],
   "source": [
    "import pandas as pds\n",
    "import numpy as np\n",
    "import textdistance\n",
    "import timeit\n",
    "import math\n",
    "import statsmodels.api as sm\n",
    "import scipy\n",
    "from patsy import dmatrix\n",
    "import time\n",
    "import math\n",
    "import tqdm\n",
    "\n",
    "name_DF = 'DF_N=4401_2023-01-16.csv'\n",
    "DF = pds.read_csv(os.path.join('..', 'datasets', name_DF), delimiter = ',')\n",
    "DF = DF[~DF.duplicated()] # delete duplicates\n",
    "DF = DF.dropna() # delete NaN values\n",
    "DF['was_assigned_female'] = DF['was_assigned_female'].astype('int32') # turn was_born_female into int type (once Nan values have been removed)\n",
    "\n",
    "identifiers = {'family_name':'jaro-winkler','was_assigned_female':'strict','country':'strict','birth_year':'large'}\n",
    "covariates = ['X1','X2','X3','X4','X5']\n",
    "\n",
    "########## GENERATES ASSOCIATION ##########           \n",
    "\n",
    "# generate covariates\n",
    "DF['X1'] = 2020 - DF['birth_year'] # age\n",
    "DF['X2'] = np.random.normal(loc = 2.5, scale = 1, size = DF.shape[0])\n",
    "DF['X3'] = np.random.normal(loc = 0, scale = 1, size = DF.shape[0])\n",
    "DF['X4'] = np.random.normal(loc = 1, scale = 1, size = DF.shape[0])\n",
    "DF['X5'] = np.random.normal(loc = 1, scale = 1, size = DF.shape[0])\n",
    "\n",
    "# generate treatment\n",
    "DF['treatment'] = np.random.binomial(n = 1, p = 1 / ( 1 + np.exp(0.1*DF.X1 -0.2*DF.X2 +0.3*DF.X3 -0.4*DF.X4 +0.5*DF.X5) )) # probability depending on covariates\n",
    "\n",
    "# generate outcome\n",
    "residual_errors = np.random.normal(size = DF.shape[0])\n",
    "a = 5.5\n",
    "b = 0.01\n",
    "c = 0.08\n",
    "d = 0.7\n",
    "\n",
    "ate = a * 2.5\n",
    "DF['Y'] = - 10 + a*DF['treatment']*DF['X2'] + b*np.exp(DF['X4']) + c*DF['X3']*DF['X1'] + d*DF['X5'] \n",
    "\n",
    "common_records = DF.sample(n = 800)\n",
    "\n",
    "B = pds.concat([DF.sample(n = 1400), common_records]).drop(['Y'], axis = 1)\n",
    "B = B.reset_index(drop=True)\n",
    "\n",
    "A = pds.concat([DF.sample(n = 2000), common_records])[list(identifiers.keys())+['Y']]\n",
    "A = A.reset_index(drop=True)\n",
    "\n",
    "def levenshtein_similarity(a,b):\n",
    "\n",
    "    \"\"\" Check that levenshtein similarity (in [0,1]) is above 0.95.\n",
    "        \n",
    "        a: string,\n",
    "        b: string \"\"\"\n",
    "\n",
    "    if 1 - textdistance.levenshtein(a, b)/max(len(a),len(b)) >= 0.95:\n",
    "        return 1\n",
    "    else:\n",
    "        return 0\n",
    "\n",
    "def jaro_winkler_similarity(a,b):\n",
    "\n",
    "    \"\"\" Check that jaro-winkler similarity (in [0,1]) is above 0.95.\n",
    "        \n",
    "        a: string,\n",
    "        b: string \"\"\"\n",
    "\n",
    "    if textdistance.jaro_winkler(a,b) >= 0.99:\n",
    "        return 1\n",
    "    else:\n",
    "        return 0\n",
    "\n",
    "def strict_equality(a,b):\n",
    "\n",
    "    \"\"\" Check that a and b values are equal.\n",
    "        \n",
    "        a: any value,\n",
    "        b: any value \"\"\"\n",
    "\n",
    "    return a==b\n",
    "\n",
    "def large_equality(a,b):\n",
    "\n",
    "    \"\"\" Check that years a and b expressed with four numbers are within the same decade.\n",
    "        \n",
    "        a: year,\n",
    "        b: year \"\"\"\n",
    "\n",
    "    return str(a)[:-1]==str(b)[:-1]\n",
    "\n",
    "def logit(p):\n",
    "    return np.log(p/(1-p))\n",
    "\n",
    "def minmaxscaler(X):\n",
    "    return (X - X.min(axis=0)) / (X.max(axis=0) - X.min(axis=0))\n",
    "    \n",
    "def propensity_score(DF, covariates, scaler, convert_to_logit):\n",
    "    \n",
    "    \"\"\" Compute propensity score estimates: the probability (logistic regression) that an observation is treated or not conditioned on some covariates.\n",
    "        These estimates are built conditionaly on covariates passed using a logit after transformation by scaler (when one is specified).\n",
    "        Estimated probabilities can be converted into logit (convert_to_logit parameter).\n",
    "\n",
    "        DF:                dataframe,\n",
    "        covariates:        list of strings for covariates variable in DF,\n",
    "        scaler:            sklearn.preprocessing function scaler for exemple,\n",
    "        convert_to_logit:  boolean for converting probabilities to logit when building the propensity score estimates based on a logistic regression\n",
    "    \"\"\"\n",
    "    exog = covariates.copy()\n",
    "    if scaler != None:\n",
    "        DF[exog] = scaler(DF[exog])\n",
    "    if 'intercept' not in DF.columns:\n",
    "        DF['intercept'] = 1\n",
    "    exog.append('intercept')\n",
    "    model = sm.Logit(DF.treatment, DF[exog]).fit(disp=0)\n",
    "    predictions = model.predict(DF[exog])\n",
    "    if convert_to_logit:\n",
    "        return logit(predictions)\n",
    "    else: \n",
    "        return predictions"
   ]
  },
  {
   "cell_type": "code",
   "execution_count": 2,
   "metadata": {},
   "outputs": [],
   "source": [
    "AB_for_z0 = B[~B.duplicated(keep=False)][identifiers.keys()].merge(A[~A.duplicated(keep=False)][identifiers.keys()], how='cross')\n",
    "AB_for_z0[\"source_index_B\"] = np.repeat(B[~B.duplicated(keep=False)].index, A[~A.duplicated(keep=False)].shape[0])\n",
    "AB_for_z0[\"source_index_A\"] = np.tile(A[~A.duplicated(keep=False)].index, B[~B.duplicated(keep=False)].shape[0])"
   ]
  },
  {
   "cell_type": "code",
   "execution_count": 3,
   "metadata": {},
   "outputs": [],
   "source": [
    "#AB = B[identifiers.keys()].merge(A[identifiers.keys()], how='cross')\n",
    "AB = B.merge(A, how='cross')\n",
    "AB[\"source_index_B\"] = np.repeat(B.index, A.shape[0])\n",
    "AB[\"source_index_A\"] = np.tile(A.index, B.shape[0])"
   ]
  },
  {
   "cell_type": "code",
   "execution_count": 4,
   "metadata": {},
   "outputs": [],
   "source": [
    "methods = {'jaro-winkler':jaro_winkler_similarity, 'levenshtein':levenshtein_similarity, 'strict':strict_equality, 'large':large_equality}\n",
    "\n",
    "for linking_var in identifiers.keys():\n",
    "    method = methods[identifiers[linking_var]]\n",
    "    df = AB.filter(regex=linking_var)\n",
    "    AB[linking_var+\"_comparison\"] = np.array([method(a, b) for a,b in zip(df.iloc[:,0], df.iloc[:,1])]).astype(int).reshape(-1,1)\n",
    "    df_z0 = AB_for_z0.filter(regex=linking_var)\n",
    "    AB_for_z0[linking_var+\"_comparison\"] = np.array([method(a, b) for a,b in zip(df_z0.iloc[:,0], df_z0.iloc[:,1])]).astype(int).reshape(-1,1)\n",
    "comparisons = AB.filter(regex=\"comparison\")\n",
    "comparisons_z0 = AB_for_z0.filter(regex=\"comparison\")\n",
    "\n",
    "unmatch = comparisons.sum(axis=0) / len(comparisons) # probability of having same linking var (at all)\n",
    "match = np.repeat(0.95, len(identifiers.keys())) # probability of having same linking var when being matches"
   ]
  },
  {
   "cell_type": "code",
   "execution_count": 5,
   "metadata": {},
   "outputs": [
    {
     "data": {
      "text/plain": [
       "0.5072727272727273"
      ]
     },
     "execution_count": 5,
     "metadata": {},
     "output_type": "execute_result"
    }
   ],
   "source": [
    "AB[\"linking_score\"] = (np.multiply(comparisons, np.log2(match/unmatch)) + np.multiply(1-comparisons, np.log2((1-match)/(1-unmatch)))).sum(axis=1)\n",
    "#AB['treatment'] = np.array(np.repeat(B.treatment, A.shape[0]))\n",
    "#AB[covariates] = np.repeat(np.array(B[covariates]), A.shape[0], axis=0)\n",
    "AB['propensity_score'] = propensity_score(AB, covariates, None, False)\n",
    "#AB['Y'] = np.tile(A.Y, B.shape[0])\n",
    "\n",
    "score = AB.linking_score.max()\n",
    "\n",
    "data = AB_for_z0[comparisons_z0.all(axis=1)]\n",
    "\n",
    "# we consider 1-2-1 matches in z\n",
    "data_link = data[ (~data.source_index_A.duplicated(keep=False)) & (~data.source_index_B.duplicated(keep=False)) ]\n",
    "\n",
    "from_A = A.iloc[data_link.source_index_A,:].reset_index(drop=True)\n",
    "from_B = B.iloc[data_link.source_index_B,:].reset_index(drop=True)\n",
    "linked_records = pds.concat([from_B, from_A.Y], axis=1)\n",
    "linked_records['propensity_score'] = propensity_score(linked_records, covariates, None, False)\n",
    "\n",
    "z0 = -np.ones(B.shape[0])\n",
    "z0[data_link.source_index_B] = data_link.source_index_A\n",
    "\n",
    "true_linkage_z = -np.ones(B.shape[0])\n",
    "true_linkage_z[B.iloc[-800:,:].index] = A.iloc[-800:,:].index\n",
    "(z0==true_linkage_z).sum()/len(z0)"
   ]
  },
  {
   "cell_type": "code",
   "execution_count": 6,
   "metadata": {},
   "outputs": [],
   "source": [
    "# def compute_posterior(file_A, file_B, file_mix_BA, linked_records, z, theta_m, theta_u, alpha_pi, beta_pi, sigma_square, a_sigma, b_sigma, beta0, beta1, alpha, mu2, sigma2_square, a_sigma2, b_sigma2):\n",
    "#     result = 0\n",
    "#     # likelihood 1\n",
    "#     # need linked_records computed based on z\n",
    "#     Y = np.array(linked_records.Y)\n",
    "#     X = np.array([linked_records.propensity_score*linked_records.treatment, linked_records.propensity_score])\n",
    "#     X = sm.add_constant(X)\n",
    "#     X = X.T\n",
    "#     model = sm.GLM(Y,X)\n",
    "#     results = model.fit()\n",
    "#     residuals = Y - X @ results.params\n",
    "#     estimated_variance = residuals.T @ residuals / (len(residuals) - (X.shape[1]+1))\n",
    "#     result += np.log(scipy.stats.norm.pdf(residuals, 0, np.sqrt(estimated_variance))).sum()\n",
    "#     # likelihood 2\n",
    "#     # need z\n",
    "#     Y = scipy.stats.norm.rvs(mu2, np.sqrt(sigma2_square), size=len(z[z<0]))\n",
    "#     result += np.log(scipy.stats.norm.pdf(Y, mu2, np.sqrt(sigma2_square))).sum()\n",
    "#     # likelihood 3 and 4\n",
    "#     # need AB, z, theta_m, theta_u ATTENTION AB SHOULD BE KNOWN (GLOBAL)\n",
    "#     idx_A = z[z>=0]\n",
    "#     idx_B = np.nonzero(z>=0)[0]\n",
    "#     links = pds.MultiIndex.from_tuples(zip(idx_A,idx_B))\n",
    "#     pairs = pds.MultiIndex.from_frame(file_mix_BA[[\"source_index_A\", \"source_index_B\"]])\n",
    "#     # 3\n",
    "#     data = file_mix_BA[pairs.isin(links)] # 1-2-1 matches enforced by construction of z\n",
    "#     pattern_match, count_match = np.unique(data.filter(regex=\"comparison\"), return_counts=True, axis=0)\n",
    "#     result += ((pattern_match @ np.log(theta_m) + (1-pattern_match) @ np.log(1-theta_m)) * count_match).sum()\n",
    "#     # 4\n",
    "#     data = file_mix_BA[(~file_mix_BA.source_index_B.duplicated())&(~pairs.isin(links))] # enforce 1-2-1 by removing duplicata\n",
    "#     pattern_unmatch, count_unmatch = np.unique(data.filter(regex=\"comparison\"), return_counts=True, axis=0)\n",
    "#     result += ((pattern_unmatch @ np.log(theta_u) + (1-pattern_unmatch) @ np.log(1-theta_u)) * count_unmatch).sum()\n",
    "#     # prior 1\n",
    "#     # need z, alpha_pi, beta_pi\n",
    "#     n_AB = (z>=0).sum()\n",
    "#     result += math.log(math.factorial(file_A.shape[0]-n_AB)) - math.log(math.factorial(file_A.shape[0])) + scipy.special.betaln(n_AB + alpha_pi, file_B.shape[0] - n_AB + beta_pi) - scipy.special.betaln(alpha_pi, beta_pi)\n",
    "#     # prior 2\n",
    "#     # need theta_m QUESTION a-1 / b-1?\n",
    "#     result += (1 * np.log(theta_m) + 1 * np.log(1-theta_m)).sum()\n",
    "#     # prior 3\n",
    "#     # need theta_u QUESTION a-1 / b-1?\n",
    "#     result += (1 * np.log(theta_u) + 1 * np.log(1-theta_u)).sum()\n",
    "#     # prior 4\n",
    "#     # need sigma_square, a_sigma, b_sigma QUESTION unclear if it is the pdf?\n",
    "#     result += np.log(scipy.stats.invgauss.pdf(sigma_square, a_sigma, b_sigma))\n",
    "#     # prior 5\n",
    "#     # need beta0, beta1, alpha QUESTION unclear if it is the pdf?\n",
    "#     result += np.log(scipy.stats.multivariate_normal.pdf([beta0, beta1, alpha], [0,0,0], np.eye(3)))\n",
    "#     # prior 6\n",
    "#     # need mu2 QUESTION unclear if it is the pdf?\n",
    "#     result += np.log(scipy.stats.norm.pdf(mu2, 0, 1))\n",
    "#     # prior 7\n",
    "#     # need sigma2_square, a_sigma2, b_sigma2 QUESTION unclear if it is the pdf?\n",
    "#     result += np.log(scipy.stats.invgauss.pdf(sigma2_square, a_sigma2, b_sigma2))\n",
    "#     return result\n",
    "\n",
    "# def compute_proposal(file_A, file_B, file_mix_BA, z, sigma_square, a_sigma, b_sigma, beta0, beta1, alpha, mu2, sigma2_square, a_sigma2, b_sigma2):\n",
    "#     result = [] # z, linked_records, theta_m, theta_u, beta0, beta1, alpha, sigma_square, mu2, sigma2_square\n",
    "#     # z\n",
    "#     linked_record_prop = (z<file_B.shape[0]).sum() / len(z) # proportion of linked records in previous z\n",
    "#     new = np.random.choice(file_A.shape[0], size=file_B.shape[0], replace=False)\n",
    "#     new = new * np.random.choice([1,-1], size=file_B.shape[0], p=[linked_record_prop, 1-linked_record_prop]) # randomly set negative some values so that the proportion of positive values corresponds to linked_record_prop\n",
    "#     result.append(new)\n",
    "#     # linked records\n",
    "#     idx_A = z[z>=0]\n",
    "#     idx_B = np.nonzero(z>=0)[0]\n",
    "#     from_A = file_A.iloc[idx_A,:].reset_index(drop=True)\n",
    "#     from_B = file_B.iloc[idx_B,:].reset_index(drop=True)\n",
    "#     linked_records = pds.concat([from_B, from_A.Y], axis=1)\n",
    "#     linked_records['propensity_score'] = propensity_score(linked_records, covariates, None, False)\n",
    "#     result.append(linked_records)\n",
    "#     # theta_u QUESTION we do not care of dependence on previous param\n",
    "#     comparisons = file_mix_BA.filter(regex=\"comparison\")\n",
    "#     unmatch = comparisons.sum(axis=0) / len(comparisons)\n",
    "#     result.append(unmatch)\n",
    "#     # theta_m QUESTION we do not care of dependence on previous param\n",
    "#     match = np.repeat(0.95, len(unmatch))\n",
    "#     result.append(match)\n",
    "#     # beta0, beta1, alpha, sigma_square\n",
    "#     result.append(beta0+scipy.stats.norm.rvs(0,0.5))\n",
    "#     result.append(beta1+scipy.stats.norm.rvs(0,0.5))\n",
    "#     result.append(alpha+scipy.stats.norm.rvs(0,0.5))\n",
    "#     result.append(sigma_square+scipy.stats.invgauss.rvs(a_sigma,b_sigma))\n",
    "#     # mu2, sigma2_square\n",
    "#     result.append(mu2+scipy.stats.norm.rvs(0,1))\n",
    "#     result.append(sigma2_square+scipy.stats.invgauss.rvs(a_sigma2,b_sigma2))\n",
    "#     return result"
   ]
  },
  {
   "cell_type": "code",
   "execution_count": 7,
   "metadata": {},
   "outputs": [],
   "source": [
    "# z_k = [z.copy()]\n",
    "\n",
    "# linked_records_k = [linked_records.copy()]\n",
    "\n",
    "# theta_m_k = [match.copy()]\n",
    "\n",
    "# theta_u_k = [unmatch.copy()]\n",
    "\n",
    "# alpha_pi_k = [1]\n",
    "# beta_pi_k = [1]\n",
    "\n",
    "# a_sigma_k = [1]\n",
    "# b_sigma_k = [1]\n",
    "\n",
    "# a_sigma2_k = [1]\n",
    "# b_sigma2_k = [1]\n",
    "\n",
    "# beta0_k = [scipy.stats.norm.rvs(0,1)]\n",
    "# beta1_k = [scipy.stats.norm.rvs(0,1)]\n",
    "# alpha_k = [scipy.stats.norm.rvs(0,1)]\n",
    "# sigma_square_k = [scipy.stats.invgauss.rvs(a_sigma_k[-1],b_sigma_k[-1])]\n",
    "\n",
    "# mu2_k = [scipy.stats.norm.rvs(0,1)]\n",
    "# sigma2_square_k = [scipy.stats.invgauss.rvs(a_sigma2_k[-1],b_sigma2_k[-1])]\n",
    "\n",
    "# posteriors = []\n",
    "# posterior = compute_posterior(A, B, AB, linked_records_k[-1], z_k[-1], theta_m_k[-1], theta_u_k[-1], alpha_pi_k[-1], beta_pi_k[-1], sigma_square_k[-1], a_sigma_k[-1], b_sigma_k[-1], beta0_k[-1], beta1_k[-1], alpha_k[-1], mu2_k[-1], sigma2_square_k[-1], a_sigma2_k[-1], b_sigma2_k[-1])\n",
    "# posteriors.append(posterior)\n",
    "\n",
    "# for _ in tqdm.tqdm(range(500)):\n",
    "#     if  not(_%50):\n",
    "#         print((z_k[-1]==true_linkage_z).sum()/len(true_linkage_z))\n",
    "\n",
    "#     proposal = compute_proposal(A, B, AB, z_k[-1], sigma_square_k[-1], a_sigma_k[-1], b_sigma_k[-1], beta0_k[-1], beta1_k[-1], alpha_k[-1], mu2_k[-1], sigma2_square_k[-1], a_sigma2_k[-1], b_sigma2_k[-1])\n",
    "#     new_z, new_linked_records, new_theta_m, new_theta_u, new_beta0, new_beta1, new_alpha, new_sigma_square, new_mu2, new_sigma2_square = proposal\n",
    "#     # if update z and linked_records\n",
    "#     new_posterior = compute_posterior(A, B, AB, new_linked_records, new_z, theta_m_k[-1], theta_u_k[-1], alpha_pi_k[-1], beta_pi_k[-1], sigma_square_k[-1], a_sigma_k[-1], b_sigma_k[-1], beta0_k[-1], beta1_k[-1], alpha_k[-1], mu2_k[-1], sigma2_square_k[-1], a_sigma2_k[-1], b_sigma2_k[-1])\n",
    "\n",
    "#     posteriors.append(new_posterior)\n",
    "#     U = scipy.stats.uniform.rvs(0,1)\n",
    "#     if U < posteriors[-1] / posteriors[-2]:\n",
    "#         z_k.append(new_z)\n",
    "#         linked_records_k.append(new_linked_records)\n",
    "#         theta_m_k.append(new_theta_m)\n",
    "#         theta_u_k.append(new_theta_u)\n",
    "#         beta0_k.append(new_beta0)\n",
    "#         beta1_k.append(new_beta1)\n",
    "#         alpha_k.append(new_alpha)\n",
    "#         sigma_square_k.append(new_sigma_square)\n",
    "#         mu2_k.append(new_mu2)\n",
    "#         sigma2_square_k.append(new_sigma2_square)"
   ]
  },
  {
   "cell_type": "code",
   "execution_count": null,
   "metadata": {},
   "outputs": [],
   "source": []
  },
  {
   "cell_type": "code",
   "execution_count": null,
   "metadata": {},
   "outputs": [],
   "source": []
  },
  {
   "cell_type": "code",
   "execution_count": null,
   "metadata": {},
   "outputs": [],
   "source": []
  },
  {
   "cell_type": "code",
   "execution_count": 8,
   "metadata": {},
   "outputs": [],
   "source": [
    "# z_k = [z.copy()]\n",
    "\n",
    "# linked_records_k = [linked_records.copy()]\n",
    "\n",
    "# theta_m_k = [match.copy()]\n",
    "\n",
    "# theta_u_k = [unmatch.copy()]\n",
    "\n",
    "# alpha_pi_k = [1]\n",
    "# beta_pi_k = [1]\n",
    "\n",
    "# a_sigma_k = [1]\n",
    "# b_sigma_k = [1]\n",
    "\n",
    "# a_sigma2_k = [1]\n",
    "# b_sigma2_k = [1]\n",
    "\n",
    "# beta0_k = [scipy.stats.norm.rvs(0,1)]\n",
    "# beta1_k = [scipy.stats.norm.rvs(0,1)]\n",
    "# alpha_k = [scipy.stats.norm.rvs(0,1)]\n",
    "# sigma_square_k = [scipy.stats.invgauss.rvs(a_sigma_k[-1],b_sigma_k[-1])]\n",
    "\n",
    "# mu2_k = [scipy.stats.norm.rvs(0,1)]\n",
    "# sigma2_square_k = [scipy.stats.invgauss.rvs(a_sigma2_k[-1],b_sigma2_k[-1])]\n",
    "\n",
    "# posteriors = []\n",
    "# posterior = compute_posterior(A, B, AB, linked_records_k[-1], z_k[-1], theta_m_k[-1], theta_u_k[-1], alpha_pi_k[-1], beta_pi_k[-1], sigma_square_k[-1], a_sigma_k[-1], b_sigma_k[-1], beta0_k[-1], beta1_k[-1], alpha_k[-1], mu2_k[-1], sigma2_square_k[-1], a_sigma2_k[-1], b_sigma2_k[-1])\n",
    "# posteriors.append(posterior)\n",
    "\n",
    "# for _ in tqdm.tqdm(range(500)):\n",
    "#     if  not(_%50):\n",
    "#         print((z_k[-1]==true_linkage_z).sum()/len(true_linkage_z))\n",
    "\n",
    "#     proposal = compute_proposal(A, B, AB, z_k[-1], sigma_square_k[-1], a_sigma_k[-1], b_sigma_k[-1], beta0_k[-1], beta1_k[-1], alpha_k[-1], mu2_k[-1], sigma2_square_k[-1], a_sigma2_k[-1], b_sigma2_k[-1])\n",
    "#     new_z, new_linked_records, new_theta_m, new_theta_u, new_beta0, new_beta1, new_alpha, new_sigma_square, new_mu2, new_sigma2_square = proposal\n",
    "#     # if update z and linked_records\n",
    "#     new_posterior = compute_posterior(A, B, AB, new_linked_records, new_z, theta_m_k[-1], theta_u_k[-1], alpha_pi_k[-1], beta_pi_k[-1], sigma_square_k[-1], a_sigma_k[-1], b_sigma_k[-1], beta0_k[-1], beta1_k[-1], alpha_k[-1], mu2_k[-1], sigma2_square_k[-1], a_sigma2_k[-1], b_sigma2_k[-1])\n",
    "#     U = scipy.stats.uniform.rvs(0,1)\n",
    "#     if U < new_posterior / posteriors[-1]:\n",
    "#         posteriors.append(new_posterior)\n",
    "#         z_k.append(new_z)\n",
    "#         linked_records_k.append(new_linked_records)\n",
    "\n",
    "#     proposal = compute_proposal(A, B, AB, z_k[-1], sigma_square_k[-1], a_sigma_k[-1], b_sigma_k[-1], beta0_k[-1], beta1_k[-1], alpha_k[-1], mu2_k[-1], sigma2_square_k[-1], a_sigma2_k[-1], b_sigma2_k[-1])\n",
    "#     new_z, new_linked_records, new_theta_m, new_theta_u, new_beta0, new_beta1, new_alpha, new_sigma_square, new_mu2, new_sigma2_square = proposal\n",
    "#     # if update theta_m, theta_u\n",
    "#     new_posterior = compute_posterior(A, B, AB, linked_records_k[-1], z_k[-1], new_theta_m, new_theta_u, alpha_pi_k[-1], beta_pi_k[-1], sigma_square_k[-1], a_sigma_k[-1], b_sigma_k[-1], beta0_k[-1], beta1_k[-1], alpha_k[-1], mu2_k[-1], sigma2_square_k[-1], a_sigma2_k[-1], b_sigma2_k[-1])\n",
    "#     U = scipy.stats.uniform.rvs(0,1)\n",
    "#     if U < new_posterior / posteriors[-1]:\n",
    "#         posteriors.append(new_posterior)\n",
    "#         theta_m_k.append(new_theta_m)\n",
    "#         theta_u_k.append(new_theta_u)\n",
    "\n",
    "#     proposal = compute_proposal(A, B, AB, z_k[-1], sigma_square_k[-1], a_sigma_k[-1], b_sigma_k[-1], beta0_k[-1], beta1_k[-1], alpha_k[-1], mu2_k[-1], sigma2_square_k[-1], a_sigma2_k[-1], b_sigma2_k[-1])\n",
    "#     new_z, new_linked_records, new_theta_m, new_theta_u, new_beta0, new_beta1, new_alpha, new_sigma_square, new_mu2, new_sigma2_square = proposal\n",
    "#     # if update beta0, beta1, alpha, sigma_square, mu2, sigma2_square\n",
    "#     new_posterior = compute_posterior(A, B, AB, linked_records_k[-1], z_k[-1], theta_m_k[-1], theta_u_k[-1], alpha_pi_k[-1], beta_pi_k[-1], new_sigma_square, a_sigma_k[-1], b_sigma_k[-1], new_beta0, new_beta1, new_alpha, new_mu2, new_sigma2_square, a_sigma2_k[-1], b_sigma2_k[-1])\n",
    "#     U = scipy.stats.uniform.rvs(0,1)\n",
    "#     if U < new_posterior / posteriors[-1]:\n",
    "#         posteriors.append(new_posterior)\n",
    "#         beta0_k.append(new_beta0)\n",
    "#         beta1_k.append(new_beta1)\n",
    "#         alpha_k.append(new_alpha)\n",
    "#         sigma_square_k.append(new_sigma_square)\n",
    "#         mu2_k.append(new_mu2)\n",
    "#         sigma2_square_k.append(new_sigma2_square)"
   ]
  },
  {
   "cell_type": "code",
   "execution_count": null,
   "metadata": {},
   "outputs": [],
   "source": []
  },
  {
   "cell_type": "code",
   "execution_count": null,
   "metadata": {},
   "outputs": [],
   "source": []
  },
  {
   "cell_type": "code",
   "execution_count": null,
   "metadata": {},
   "outputs": [],
   "source": []
  },
  {
   "cell_type": "code",
   "execution_count": 9,
   "metadata": {},
   "outputs": [],
   "source": [
    "z_k = [z0.copy()]\n",
    "\n",
    "linked_records_k = [linked_records.copy()]\n",
    "\n",
    "theta_m_k = [match.copy()]\n",
    "\n",
    "theta_u_k = [unmatch.copy()]\n",
    "\n",
    "alpha_pi_k = [1]\n",
    "beta_pi_k = [1]\n",
    "\n",
    "a_sigma_k = [1]\n",
    "b_sigma_k = [1]\n",
    "\n",
    "a_sigma2_k = [1]\n",
    "b_sigma2_k = [1]\n",
    "\n",
    "beta0_k = [scipy.stats.norm.rvs(0,1)]\n",
    "beta1_k = [scipy.stats.norm.rvs(0,1)]\n",
    "alpha_k = [scipy.stats.norm.rvs(0,1)]\n",
    "sigma_square_k = [scipy.stats.invgauss.rvs(a_sigma_k[-1],b_sigma_k[-1])]\n",
    "\n",
    "mu2_k = [scipy.stats.norm.rvs(0,1)]\n",
    "sigma2_square_k = [scipy.stats.invgauss.rvs(a_sigma2_k[-1],b_sigma2_k[-1])]"
   ]
  },
  {
   "cell_type": "code",
   "execution_count": 10,
   "metadata": {},
   "outputs": [
    {
     "name": "stdout",
     "output_type": "stream",
     "text": [
      "[array([ 3.850e+02, -1.000e+00,  5.290e+02, ..., -1.000e+00,  2.798e+03,\n",
      "       -1.000e+00])]\n",
      "[array([0.95, 0.95, 0.95, 0.95])]\n",
      "[family_name_comparison            0.000399\n",
      "was_assigned_female_comparison    0.500373\n",
      "country_comparison                0.110637\n",
      "birth_year_comparison             0.144264\n",
      "dtype: float64]\n",
      "[1]\n",
      "[1]\n",
      "[1]\n",
      "[1]\n",
      "[1]\n",
      "[1]\n",
      "[-0.4688399322523959]\n",
      "[-0.8071345978747391]\n",
      "[-0.8579093407974692]\n",
      "[1.6543537724423403]\n",
      "[-1.8476769374347874]\n",
      "[6.125059031251658]\n"
     ]
    }
   ],
   "source": [
    "print(z_k)\n",
    "\n",
    "print(theta_m_k)\n",
    "\n",
    "print(theta_u_k)\n",
    "\n",
    "print(alpha_pi_k)\n",
    "print(beta_pi_k)\n",
    "\n",
    "print(a_sigma_k)\n",
    "print(b_sigma_k)\n",
    "\n",
    "print(a_sigma2_k)\n",
    "print(b_sigma2_k)\n",
    "\n",
    "print(beta0_k)\n",
    "print(beta1_k)\n",
    "print(alpha_k)\n",
    "print(sigma_square_k)\n",
    "\n",
    "print(mu2_k)\n",
    "print(sigma2_square_k)"
   ]
  },
  {
   "cell_type": "code",
   "execution_count": 11,
   "metadata": {},
   "outputs": [],
   "source": [
    "# full conditional\n",
    "\n",
    "# THETA M U\n",
    "idx_A = z_k[-1][z_k[-1]>=0]\n",
    "idx_B = np.nonzero(z_k[-1]>=0)[0]\n",
    "links = pds.MultiIndex.from_tuples(zip(idx_A,idx_B))\n",
    "pairs = pds.MultiIndex.from_frame(AB[[\"source_index_A\", \"source_index_B\"]])\n",
    "\n",
    "data_match = AB[pairs.isin(links)]\n",
    "comparisons_match = data_match.filter(regex=\"comparison\")\n",
    "theta_m_k.append(scipy.stats.beta.rvs(comparisons_match.sum(axis=0) + 1, (1-comparisons_match).sum(axis=0) + 1))\n",
    "\n",
    "data_unmatch = AB[(~pairs.isin(links)) & (~AB.source_index_B.duplicated()) & (~AB.source_index_A.duplicated())] # a revoir pour les duplicata\n",
    "comparisons_unmatch = data_unmatch.filter(regex=\"comparison\")\n",
    "theta_u_k.append(scipy.stats.beta.rvs(comparisons_unmatch.sum(axis=0) + 1, (1-comparisons_unmatch).sum(axis=0) + 1))\n",
    "\n",
    "# OUTCOME REGR. PARAM\n",
    "tilde_y = linked_records_k[-1].Y\n",
    "tilde_K = np.array([linked_records_k[-1].intercept, linked_records_k[-1].propensity_score, linked_records_k[-1].treatment]).T\n",
    "\n",
    "sigma_matrix = np.linalg.inv( tilde_K.T @ tilde_K / sigma_square_k[-1] + np.eye(tilde_K.shape[1]) )\n",
    "tilde_K.T @ tilde_y\n",
    "mu_vector = sigma_matrix @ tilde_K.T @ tilde_y / sigma_square_k[-1]\n",
    "beta0, beta1, alpha = scipy.stats.multivariate_normal.rvs(mu_vector, sigma_matrix)\n",
    "beta0_k.append(beta0)\n",
    "beta1_k.append(beta1)\n",
    "alpha_k.append(alpha)\n",
    "\n",
    "n_AB = (z_k[-1]>=0).sum()\n",
    "sigma_square_k.append(scipy.stats.invgauss.rvs(a_sigma_k[-1] + n_AB/2, np.linalg.norm(tilde_y - tilde_K @ np.array([beta0_k[-1], beta1_k[-1], alpha_k[-1]]))**2 / 2 + b_sigma_k[-1]))\n",
    "sigma2_square_k.append(scipy.stats.invgauss.rvs(a_sigma2_k[-1] + (A.shape[0]-n_AB)/2, b_sigma2_k[-1] + ((A.iloc[~A.index.isin(idx_A),:].Y - mu2_k[-1])**2 / 2).sum()))\n",
    "sigma_mu_2_square = 1 / ((A.shape[0] -  n_AB)/sigma2_square_k[-1] + 1)\n",
    "m_mu_2 = sigma_mu_2_square * (A.iloc[~A.index.isin(idx_A),:].Y).sum() / sigma2_square_k[-1]\n",
    "mu2_k.append(scipy.stats.norm.rvs(m_mu_2, np.sqrt(sigma_mu_2_square)))\n"
   ]
  },
  {
   "cell_type": "code",
   "execution_count": 12,
   "metadata": {},
   "outputs": [
    {
     "name": "stdout",
     "output_type": "stream",
     "text": [
      "[array([0.95, 0.95, 0.95, 0.95]), array([0.9984138 , 0.99949996, 0.99905481, 0.99839724])]\n",
      "[family_name_comparison            0.000399\n",
      "was_assigned_female_comparison    0.500373\n",
      "country_comparison                0.110637\n",
      "birth_year_comparison             0.144264\n",
      "dtype: float64, array([0.2305028 , 0.34686214, 0.38434979, 0.3808328 ])]\n",
      "[1]\n",
      "[1]\n",
      "[1]\n",
      "[1]\n",
      "[1]\n",
      "[1]\n",
      "[-0.4688399322523959, -9.107019742346091]\n",
      "[-0.8071345978747391, -0.3371613845969367]\n",
      "[-0.8579093407974692, 13.489644061240778]\n",
      "[1.6543537724423403, 6646.444204373614]\n",
      "[-1.8476769374347874, -1.3456413632085549]\n",
      "[6.125059031251658, 71186.44068373674]\n"
     ]
    }
   ],
   "source": [
    "print(theta_m_k)\n",
    "\n",
    "print(theta_u_k)\n",
    "\n",
    "print(alpha_pi_k)\n",
    "print(beta_pi_k)\n",
    "\n",
    "print(a_sigma_k)\n",
    "print(b_sigma_k)\n",
    "\n",
    "print(a_sigma2_k)\n",
    "print(b_sigma2_k)\n",
    "\n",
    "print(beta0_k)\n",
    "print(beta1_k)\n",
    "print(alpha_k)\n",
    "print(sigma_square_k)\n",
    "\n",
    "print(mu2_k)\n",
    "print(sigma2_square_k)"
   ]
  },
  {
   "cell_type": "code",
   "execution_count": 13,
   "metadata": {},
   "outputs": [],
   "source": [
    "# # FULFIL A NEW Z VECTOR:\n",
    "# # \n",
    "# # j = 3\n",
    "# #set_data = ...[AB['source_index_B']==j]\n",
    "# start = time.time()\n",
    "# new_z_vector = []\n",
    "# already_taken = []\n",
    "\n",
    "# for j in range(B.shape[0]):\n",
    "\n",
    "#     w1 = ((np.multiply(comparisons[AB['source_index_B']==j], np.log(theta_m_k[-1]/theta_u_k[-1])) + np.multiply(1-comparisons[AB['source_index_B']==j], np.log((1-theta_m_k[-1])/(1-theta_u_k[-1])))).sum(axis=1))\n",
    "#     # AB propensity score need to be updated at each iteration!!!\n",
    "#     data = AB[AB['source_index_B']==j]\n",
    "#     residuals = data['Y'] - np.array([data['intercept'], data['propensity_score'], data['propensity_score'] * data['treatment']]).T @ np.array([beta0_k[-1], beta1_k[-1], alpha_k[-1]]).T\n",
    "#     estimated_variance = residuals.T @ residuals / (len(residuals) - (data.shape[1]+1))\n",
    "#     aaa = scipy.stats.norm.pdf(residuals, 0, np.sqrt(estimated_variance))\n",
    "#     bbb = scipy.stats.norm.pdf(data['Y'], mu2_k[-1], np.sqrt(sigma2_square_k[-1]))\n",
    "#     w2 = np.log(aaa/bbb)\n",
    "#     probabilities = np.array(np.exp(w1+w2))\n",
    "\n",
    "#     #\n",
    "#     n_AB_ = (np.delete(z_k[-1], j)>=0).sum()\n",
    "#     probabilities = np.append(probabilities, (A.shape[0] - n_AB_) * (B.shape[0] - n_AB_ - 1 + beta_pi_k[-1]) / (n_AB_ + alpha_pi_k[-1]))\n",
    "\n",
    "#     probabilities = probabilities / (probabilities).sum()\n",
    "\n",
    "#     choice_array = np.arange(A.shape[0])\n",
    "#     choice_array = np.append(choice_array, -1)\n",
    "\n",
    "#     val = np.random.choice(choice_array, p = probabilities)\n",
    "#     while val in already_taken:\n",
    "#         val = np.random.choice(choice_array, p = probabilities)\n",
    "#     if val != -1:\n",
    "#         already_taken.append(val)\n",
    "    \n",
    "#     new_z_vector.append(val)\n",
    "# end = time.time()\n",
    "# print(end-start)\n",
    "# new_z_vector"
   ]
  },
  {
   "cell_type": "code",
   "execution_count": 14,
   "metadata": {},
   "outputs": [
    {
     "name": "stdout",
     "output_type": "stream",
     "text": [
      "[array([ 3.850e+02, -1.000e+00,  5.290e+02, ..., -1.000e+00,  2.798e+03,\n",
      "       -1.000e+00]), [-1, -1, -1, -1, -1, -1, 1544, -1, -1, 993, 1646, -1, -1, 228, -1, -1, -1, -1, -1, 1863, 659, -1, 1285, -1, -1, -1, -1, -1, 2311, -1, 1931, -1, -1, -1, -1, 1456, -1, -1, 821, -1, 2694, -1, -1, 165, 771, -1, -1, -1, 1825, -1, -1, 314, -1, -1, -1, -1, -1, -1, -1, 2262, -1, -1, -1, -1, -1, -1, -1, -1, 2420, -1, 267, 1780, 2048, 645, -1, -1, -1, -1, 594, -1, 2071, -1, 2480, -1, 1728, -1, -1, 180, -1, 158, 7, 638, -1, 2164, -1, 30, -1, -1, 260, 521, 1344, -1, -1, 570, -1, -1, -1, 830, 457, -1, -1, -1, 156, -1, -1, -1, 2272, -1, -1, -1, -1, -1, -1, -1, -1, -1, 1509, -1, 824, 2155, -1, 296, -1, -1, -1, -1, -1, 1938, -1, -1, -1, 112, 1336, -1, -1, -1, -1, 2076, 1110, -1, -1, -1, -1, -1, -1, -1, -1, -1, 1022, -1, -1, -1, -1, -1, -1, -1, -1, -1, 1560, 792, 2746, -1, -1, 159, -1, -1, -1, -1, 2297, 1125, -1, -1, -1, -1, -1, -1, -1, 261, -1, -1, -1, -1, -1, -1, -1, 609, -1, 1108, -1, -1, 1356, 543, -1, -1, -1, 1615, -1, -1, 2424, -1, -1, -1, -1, 2291, -1, -1, -1, -1, -1, -1, -1, -1, -1, -1, -1, -1, 1794, 2546, -1, -1, 1259, 694, -1, -1, -1, -1, -1, -1, -1, 2465, -1, -1, -1, -1, -1, -1, 1151, -1, 1681, -1, 1787, -1, 2519, 2433, -1, -1, -1, -1, 2298, -1, -1, 1191, -1, -1, 1355, -1, -1, 1489, 1637, -1, -1, -1, -1, 2149, -1, 765, -1, 575, 534, -1, -1, -1, -1, 315, -1, 1512, 892, 623, -1, 1483, -1, -1, -1, 1919, 1804, -1, -1, -1, -1, -1, -1, -1, -1, -1, -1, 18, 266, -1, -1, -1, -1, 1815, -1, -1, -1, 372, 1387, -1, 1670, -1, -1, -1, 2294, 1870, 1685, 2395, -1, 2579, -1, -1, -1, -1, 153, -1, 373, -1, 935, -1, 2467, -1, -1, -1, 2094, -1, -1, -1, -1, -1, -1, 2033, -1, -1, -1, -1, 2099, -1, -1, -1, -1, -1, -1, 24, -1, 789, 1515, 615, -1, -1, -1, -1, -1, -1, 1996, -1, 1998, -1, 1268, -1, -1, 1561, -1, 518, -1, -1, -1, -1, -1, -1, -1, -1, -1, -1, 961, -1, -1, -1, -1, 794, -1, 177, -1, 1729, -1, 798, -1, -1, -1, -1, -1, -1, -1, -1, -1, -1, -1, -1, -1, -1, -1, -1, -1, 876, -1, 722, -1, -1, -1, -1, -1, -1, -1, 212, 2379, -1, -1, -1, 2358, -1, -1, 2643, -1, -1, -1, -1, -1, 2171, -1, -1, 2681, -1, -1, -1, 331, -1, -1, -1, -1, -1, 2609, -1, 1139, 487, -1, -1, -1, -1, -1, -1, -1, -1, 2693, -1, -1, -1, -1, -1, 780, -1, -1, -1, -1, -1, 452, -1, 978, -1, -1, -1, -1, -1, 2305, -1, -1, -1, -1, 1153, -1, -1, 1213, -1, -1, 1224, -1, 2616, -1, -1, -1, 1390, -1, 841, 656, -1, -1, 2365, 2781, -1, -1, -1, 1064, -1, -1, -1, 1617, -1, -1, -1, -1, 1669, -1, 2437, -1, 1756, 1081, -1, 1373, -1, -1, -1, -1, 2296, -1, -1, -1, -1, 2391, -1, 703, -1, 204, -1, -1, -1, -1, 1040, -1, -1, 1436, -1, 764, 2070, -1, -1, -1, -1, -1, 2201, -1, -1, 350, 936, -1, -1, 74, -1, -1, -1, -1, 493, -1, -1, 1631, 2327, -1, -1, -1, 530, -1, -1, 140, -1, -1, -1, -1, -1, -1, -1, -1, -1, 840, -1, -1, -1, 2161, -1, -1, -1, 1896, -1, -1, -1, 1071, -1, -1, -1, -1, 2741, -1, -1, -1, 2062, -1, 2789, 1180, -1, -1, -1, -1, 2151, -1, 2376, -1, -1, -1, -1, 2506, -1, 141, -1, -1, -1, -1, -1, -1, 787, 2577, -1, -1, -1, -1, -1, -1, -1, -1, 224, 1476, -1, -1, -1, -1, 1346, -1, -1, -1, -1, -1, -1, 1250, -1, 669, -1, -1, -1, -1, -1, -1, -1, -1, -1, 1342, -1, 475, 889, 2574, -1, -1, -1, -1, -1, 1759, 2397, -1, -1, -1, 2193, -1, -1, -1, 2668, -1, -1, -1, -1, -1, -1, -1, -1, -1, -1, -1, -1, -1, -1, -1, -1, 394, 276, -1, 2113, -1, -1, -1, -1, -1, -1, -1, -1, -1, 1710, -1, -1, -1, -1, -1, -1, -1, -1, -1, -1, -1, -1, 1129, -1, -1, -1, -1, 2210, -1, -1, 2200, -1, -1, -1, -1, -1, -1, -1, -1, -1, -1, -1, -1, -1, -1, -1, 2728, -1, -1, 1092, 1604, 1167, -1, -1, -1, -1, 1874, 1851, -1, 2774, -1, 1383, -1, -1, -1, 2093, 2627, -1, -1, 1658, 670, -1, -1, -1, -1, -1, -1, -1, 845, -1, -1, 447, 649, 1625, -1, -1, -1, -1, -1, -1, -1, 498, 2629, 1582, -1, -1, 1473, -1, -1, 1593, -1, -1, -1, -1, -1, 1454, -1, -1, -1, -1, -1, -1, -1, 284, -1, 2194, 538, -1, -1, 1163, -1, -1, -1, -1, -1, -1, 1616, -1, -1, -1, -1, -1, -1, 1171, -1, -1, -1, 848, 2454, -1, -1, -1, -1, 633, -1, 540, -1, -1, -1, -1, 596, -1, -1, -1, 1788, -1, 2056, -1, 1073, -1, -1, -1, -1, 627, -1, 143, -1, -1, -1, -1, -1, -1, -1, 256, 1974, -1, 579, 2105, -1, -1, -1, -1, 304, -1, -1, 776, -1, -1, -1, -1, -1, -1, -1, 1076, -1, -1, 1899, -1, -1, -1, -1, -1, -1, -1, -1, -1, -1, -1, -1, -1, 1029, -1, 502, -1, -1, -1, 1526, -1, -1, -1, -1, -1, -1, -1, -1, -1, -1, -1, -1, -1, -1, -1, 104, -1, 1117, -1, 1603, -1, -1, 2255, 2340, -1, -1, -1, -1, 1055, 2602, 1048, 2104, 2571, -1, 2336, -1, -1, 2188, -1, -1, -1, -1, -1, -1, -1, 306, 2231, -1, -1, -1, -1, -1, -1, -1, -1, -1, -1, -1, -1, -1, 2213, 309, 1015, -1, -1, 291, -1, -1, -1, -1, -1, 2747, 1799, 2209, -1, 168, 2089, 2523, -1, -1, 1080, 544, -1, -1, -1, -1, -1, 2450, 995, -1, -1, -1, 49, -1, -1, 2320, -1, -1, 424, -1, -1, -1, -1, -1, -1, -1, 174, -1, -1, -1, 1475, -1, -1, -1, -1, -1, -1, -1, 1183, -1, 485, -1, -1, -1, -1, -1, -1, 1873, -1, -1, -1, -1, -1, -1, -1, -1, -1, -1, -1, -1, 969, -1, -1, -1, -1, 446, -1, -1, 923, -1, 1299, 557, -1, -1, -1, -1, 2492, -1, -1, -1, -1, -1, -1, 1866, -1, -1, -1, -1, 2701, -1, 2400, -1, -1, -1, 2537, -1, 560, 1030, -1, 2111, -1, -1, -1, -1, 2441, 1323, -1, -1, 2631, -1, -1, -1, -1, -1, 1758, -1, -1, -1, -1, -1, -1, 11, 1744, -1, -1, -1, -1, 2651, -1, 1554, 2143, -1, -1, -1, -1, -1, 2756, 1506, 1558, -1, -1, 2351, -1, -1, -1, -1, -1, 1657, 99, 2456, -1, -1, -1, -1, -1, -1, 1014, -1, -1, -1, -1, 1868, -1, -1, 2288, -1, -1, 580, -1, 1036, -1, -1, 207, -1, 524, 1549, -1, -1, 1137, -1, 488, -1, -1, -1, -1, 1365, 1841, 1594, -1, -1, 2043, -1, 2265, -1, 915, -1, -1, -1, -1, -1, -1, -1, -1, -1, -1, -1, -1, -1, -1, 2170, -1, -1, 1124, -1, -1, -1, -1, -1, -1, 532, -1, 1352, -1, 753, 121, 1141, -1, -1, -1, 1193, -1, -1, -1, -1, -1, -1, 922, 1059, -1, -1, -1, -1, -1, -1, -1, -1, 1814, -1, -1, -1, -1, -1, -1, -1, 725, -1, -1, -1, 328, -1, -1, -1, -1, 1162, -1, -1, -1, -1, -1, -1, 2000, -1, -1, 815, -1, -1, -1, -1, -1, -1, -1, -1, 2292, -1, -1, -1, -1, 2332, -1, -1, -1, 1775, -1, -1, -1, -1, 894, 741, -1, -1, -1, -1, -1, -1, -1, 1240, -1, -1, -1, -1, 1066, 178, -1, 1521, 1317, -1, -1, -1, -1, -1, -1, -1, -1, -1, -1, 1098, -1, 2007, 1762, 1221, 1783, -1, -1, 1104, -1, -1, -1, -1, -1, -1, -1, -1, -1, -1, -1, -1, 2714, -1, -1, 133, -1, -1, -1, -1, -1, 2189, -1, -1, -1, -1, -1, -1, 2026, 983, -1, -1, -1, 1227, -1, -1, 1585, 254, -1, 89, -1, -1, -1, 1499, 1111, -1, -1, -1, -1, -1, 334, 1774, 1411, 2002, 1601, -1, 857, 698, 1950, -1, 1599, 2010, -1, 2012, -1, 2014, -1, -1, -1, -1, 2019, 2020, 2021, 2022, -1, -1, -1, -1, -1, -1, -1, -1, 949, -1, -1, -1, 2035, 2036, -1, -1, -1, 2040, 2041, -1, -1, 1522, 2045, 933, -1, -1, 2049, 65, -1, 2052, 2053, 2054, 2055, -1, -1, -1, 2059, 134, 2061, 1696, -1, 1164, 2065, 407, 2067, -1, -1, -1, -1, -1, -1, -1, 2075, -1, 2077, 2078, -1, 2080, -1, 2082, -1, 2084, 2085, -1, 2087, 2088, -1, -1, 2091, -1, -1, 665, -1, -1, -1, -1, -1, -1, 255, 2102, 2103, -1, -1, 2106, 2107, -1, 225, -1, -1, 2112, -1, 1441, -1, 2116, -1, -1, 2119, 829, -1, -1, -1, 2124, -1, -1, 239, -1, -1, 2130, 2131, -1, 2133, 2134, 2135, 826, 2137, -1, 1271, 2140, -1, -1, -1, -1, 2145, -1, 2147, 2148, -1, 1401, 1535, -1, 2153, 2154, -1, -1, 1132, -1, -1, -1, -1, 2162, -1, -1, 2165, -1, 2167, -1, 2169, -1, -1, 2172, 2173, 2174, -1, -1, 1025, -1, 2179, 1394, -1, -1, -1, -1, 2185, -1, -1, -1, -1, -1, 2191, 1750, -1, -1, -1, 2196, 2197, -1, 2199, -1, -1, 2202, -1, -1, 1946, 2206, 2207, 2208, 1291, -1, 2211, -1, 198, -1, 1832, 1465, -1, -1, 2219, 2220, 2221, -1, 2223, 473, 470, 2226, -1, -1, 2229, -1, -1, 2459, -1, 2234, 2235, -1, -1, 2238, 2239, -1, -1, 2242, 1033, 2244, -1, -1, 1437, -1, 2249, 1921, 2251, -1, -1, -1, 1850, -1, -1, -1, -1, -1, -1, -1, 2263, 2264, 1829, 2266, -1, 2447, 2269, -1, 1016, -1, 2273, -1, -1, -1, -1, 2278, 868, 2280, 2281, -1, -1, -1, -1, 2286, -1, -1, -1, 2290, -1, -1, 2293, -1, -1, -1, -1, 631, 2299, -1, -1, -1, 2303, -1, -1, -1, -1, 724, -1, -1, 116, -1, -1, -1, 2315, -1, 2317, -1, 2319, 1199, -1, -1, 2323, 1155, 1330, 1487, -1, -1, -1, -1, -1, -1, 437, -1, 2335, 419, -1, 2338, -1, -1, -1, 245, 2343, 1457, 2345, -1, 2347, -1, 2349, 607, 1809, 460, -1, 1306, 2355, -1, -1, -1, -1, -1, 2361, -1, -1, 2364, -1, -1, -1, -1, -1, -1, 2371, -1, -1, 2374, 2375, 688, -1, -1, -1, -1, -1, 2382, -1, 2384, -1, 2386, -1, 2388, 2389, -1, 1157, -1, -1, -1, -1, -1, 1929, -1, -1, 1062, -1, -1, -1, -1, -1, -1, 1209, -1, -1, 2410, 388, 1282, 2413, 1590, 1981, 2416, -1, -1, 1805, 1310, -1, 1702, -1, -1, -1, 2426, 707, -1, 2429, -1, 992, -1, 416, -1, -1, 2436, -1, 2438, -1, -1, -1, 2442, -1, -1, -1, 294, -1, 2448, 1983, -1, 1357, 2452, -1, -1, -1, -1, 1367, -1, -1, -1, -1, -1, 2463, -1, -1, 2466, -1, 858, 2469, 1880, -1, -1, 2473, -1, 2475, -1, 914, -1, 2479, 884, 2481, -1, -1, -1, 2485, -1, -1, 2488, -1, 799, 2491, -1, -1, -1, 2495, 2496, 2497, -1, 2499, -1, 2501, 2502, 2503, -1, 509, -1, 1607, -1, 2509, 2510, 259, 2512, 1871, 2514, 2515, 2516, 614, 1707, -1, 2520, 2521, 2522, -1, 590, 2525, -1, 2527, -1, 2529, 527, -1, 2532, 2533, -1, 2535, -1, -1, -1, 2539, -1, 2541, -1, 2543, 2544, -1, 1447, -1, -1, 2549, -1, -1, 2552, 2553, 2554, -1, -1, 1885, -1, -1, -1, -1, 2562, -1, 1196, 2308, 2566, -1, -1, -1, -1, -1, -1, 2573, 1589, -1, -1, -1, -1, -1, 2580, -1, 1366, 2583, 2584, 1726, 520, -1, 2588, -1, 1746, -1, 2592, -1, 2594, 2595, -1, -1, -1, -1, -1, 2601, -1, 2603, 2604, -1, 2606, -1, -1, 1993, 2610, 2611, -1, 2613, 2614, -1, -1, 2617, -1, 2619, -1, 2621, -1, -1, 2624, 2625, 2626, 310, -1, -1, -1, 1368, 2632, 2633, -1, -1, -1, 593, -1, -1, -1, 2641, 2642, -1, 2644, 2645, -1, 1644, -1, 2649, -1, -1, 209, 2653, -1, -1, 2656, 1958, 2658, -1, 1422, 2661, 2662, 1818, 2664, 2665, -1, 604, -1, -1, -1, -1, 2672, -1, 1376, -1, 2676, 2677, 2678, 2679, 2680, -1, 1635, 2683, -1, -1, 5, 2687, 2688, 2689, 2690, 2691, -1, 1551, -1, 2695, 2696, -1, -1, -1, -1, -1, -1, 2703, -1, -1, -1, -1, -1, 2709, 2710, 1433, -1, 734, -1, -1, 2716, 2717, -1, 2719, 2720, 2721, 1524, 2723, -1, 2725, -1, 2727, -1, 2729, 2730, -1, -1, 2733, 2734, 1377, 2736, 2737, -1, -1, -1, 625, 2742, 2743, 2744, -1, -1, 1731, -1, -1, -1, -1, -1, -1, -1, 2755, -1, -1, 2758, 1994, -1, 1982, -1, -1, -1, -1, 2766, 2767, 37, -1, 2770, 2771, -1, 2773, -1, 2775, 2776, -1, 2778, -1, -1, -1, 515, 2783, 2784, -1, -1, 1531, -1, 1614, 1262, -1, -1, 2793, -1, 2795, 2796, 1013, -1, -1]]\n"
     ]
    }
   ],
   "source": [
    "#j = 3\n",
    "#set_data = ...[AB['source_index_B']==j]\n",
    "\n",
    "new_z_vector = []\n",
    "already_taken = []\n",
    "\n",
    "w1 = ((np.multiply(comparisons, np.log(theta_m_k[-1]/theta_u_k[-1])) + np.multiply(1-comparisons, np.log((1-theta_m_k[-1])/(1-theta_u_k[-1])))).sum(axis=1))\n",
    "# AB propensity score need to be updated at each iteration!!!\n",
    "data = AB\n",
    "residuals = data['Y'] - np.array([data['intercept'], data['propensity_score'], data['propensity_score'] * data['treatment']]).T @ np.array([beta0_k[-1], beta1_k[-1], alpha_k[-1]]).T\n",
    "estimated_variance = residuals.T @ residuals / (len(residuals) - (data.shape[1]+1))\n",
    "aaa = scipy.stats.norm.pdf(residuals, 0, np.sqrt(estimated_variance))\n",
    "bbb = scipy.stats.norm.pdf(data['Y'], mu2_k[-1], np.sqrt(sigma2_square_k[-1]))\n",
    "w2 = np.log(aaa/bbb)\n",
    "probabilities = np.array(np.exp(w1+w2))\n",
    "probabilities = probabilities.reshape(B.shape[0], A.shape[0])\n",
    "\n",
    "#\n",
    "n_AB_ = np.array([(np.delete(z_k[-1], j)>=0).sum() for j in range(B.shape[0])])\n",
    "proba_no_link = ((A.shape[0] - n_AB_) * (B.shape[0] - n_AB_ - 1 + beta_pi_k[-1]) / (n_AB_ + alpha_pi_k[-1])).reshape(-1,1)\n",
    "probabilities = np.concatenate([probabilities, proba_no_link], axis=1)\n",
    "probabilities = np.divide(probabilities.T, probabilities.sum(axis=1)).T\n",
    "\n",
    "choice_array = np.arange(A.shape[0])\n",
    "choice_array = np.append(choice_array, -1)\n",
    "choice_array = np.tile(choice_array, B.shape[0]).reshape(B.shape[0], A.shape[0]+1)\n",
    "\n",
    "for j in range(B.shape[0]):\n",
    "    val = np.random.choice(choice_array[j,:], p = probabilities[j,:])\n",
    "    while val in already_taken:\n",
    "        val = np.random.choice(choice_array[j,:], p = probabilities[j,:])\n",
    "    if val != -1:\n",
    "        already_taken.append(val)\n",
    "    new_z_vector.append(val)\n",
    "\n",
    "new_z_vector\n",
    "\n",
    "z_k.append(new_z_vector)\n",
    "print(z_k)"
   ]
  },
  {
   "cell_type": "code",
   "execution_count": null,
   "metadata": {},
   "outputs": [],
   "source": []
  },
  {
   "cell_type": "code",
   "execution_count": 113,
   "metadata": {},
   "outputs": [
    {
     "data": {
      "text/plain": [
       "array([ 1.000e+01,  8.130e+02, -1.000e+00, ..., -1.000e+00, -1.000e+00,\n",
       "        2.799e+03])"
      ]
     },
     "execution_count": 113,
     "metadata": {},
     "output_type": "execute_result"
    }
   ],
   "source": [
    "z_k[-1]"
   ]
  },
  {
   "cell_type": "code",
   "execution_count": 109,
   "metadata": {},
   "outputs": [
    {
     "data": {
      "text/plain": [
       "array([[   0,    1,    2, ..., 2798, 2799,   -1],\n",
       "       [   0,    1,    2, ..., 2798, 2799,   -1],\n",
       "       [   0,    1,    2, ..., 2798, 2799,   -1],\n",
       "       ...,\n",
       "       [   0,    1,    2, ..., 2798, 2799,   -1],\n",
       "       [   0,    1,    2, ..., 2798, 2799,   -1],\n",
       "       [   0,    1,    2, ..., 2798, 2799,   -1]])"
      ]
     },
     "execution_count": 109,
     "metadata": {},
     "output_type": "execute_result"
    }
   ],
   "source": [
    "choice_array"
   ]
  },
  {
   "cell_type": "code",
   "execution_count": 104,
   "metadata": {},
   "outputs": [
    {
     "data": {
      "text/plain": [
       "array([[2. , 4. ],\n",
       "       [3. , 4. ],\n",
       "       [2.5, 3. ]])"
      ]
     },
     "execution_count": 104,
     "metadata": {},
     "output_type": "execute_result"
    }
   ],
   "source": [
    "\n",
    "np.divide(np.array([[1,2],[3,4],[5,6]]).T, [0.5,1,2]).T"
   ]
  },
  {
   "cell_type": "code",
   "execution_count": 89,
   "metadata": {},
   "outputs": [
    {
     "data": {
      "text/plain": [
       "(2200,)"
      ]
     },
     "execution_count": 89,
     "metadata": {},
     "output_type": "execute_result"
    }
   ],
   "source": [
    "proba_no_link.shape"
   ]
  },
  {
   "cell_type": "code",
   "execution_count": 83,
   "metadata": {},
   "outputs": [
    {
     "data": {
      "text/plain": [
       "array([[   0,    0,    0, ...,    0,    0,    0],\n",
       "       [   1,    1,    1, ...,    1,    1,    1],\n",
       "       [   2,    2,    2, ...,    2,    2,    2],\n",
       "       ...,\n",
       "       [2197, 2197, 2197, ..., 2197, 2197, 2197],\n",
       "       [2198, 2198, 2198, ..., 2198, 2198, 2198],\n",
       "       [2199, 2199, 2199, ..., 2199, 2199, 2199]])"
      ]
     },
     "execution_count": 83,
     "metadata": {},
     "output_type": "execute_result"
    }
   ],
   "source": [
    "np.array(AB['source_index_B']).reshape(B.shape[0], A.shape[0])"
   ]
  },
  {
   "cell_type": "code",
   "execution_count": 84,
   "metadata": {},
   "outputs": [
    {
     "data": {
      "text/plain": [
       "array([[   0,    1,    2, ..., 2797, 2798, 2799],\n",
       "       [   0,    1,    2, ..., 2797, 2798, 2799],\n",
       "       [   0,    1,    2, ..., 2797, 2798, 2799],\n",
       "       ...,\n",
       "       [   0,    1,    2, ..., 2797, 2798, 2799],\n",
       "       [   0,    1,    2, ..., 2797, 2798, 2799],\n",
       "       [   0,    1,    2, ..., 2797, 2798, 2799]])"
      ]
     },
     "execution_count": 84,
     "metadata": {},
     "output_type": "execute_result"
    }
   ],
   "source": [
    "np.array(AB['source_index_A']).reshape(B.shape[0], A.shape[0])"
   ]
  },
  {
   "cell_type": "code",
   "execution_count": null,
   "metadata": {},
   "outputs": [],
   "source": []
  },
  {
   "cell_type": "code",
   "execution_count": 53,
   "metadata": {},
   "outputs": [
    {
     "data": {
      "text/plain": [
       "array([ 1.000e+01,  8.130e+02, -1.000e+00, ..., -1.000e+00, -1.000e+00,\n",
       "        2.799e+03])"
      ]
     },
     "execution_count": 53,
     "metadata": {},
     "output_type": "execute_result"
    }
   ],
   "source": [
    "n_AB_ = (np.delete(z_k[-1], j)>=0).sum()"
   ]
  },
  {
   "cell_type": "code",
   "execution_count": 55,
   "metadata": {},
   "outputs": [
    {
     "data": {
      "text/plain": [
       "array([ 1.000e+01,  8.130e+02, -1.000e+00, ..., -1.000e+00, -1.000e+00,\n",
       "        2.799e+03])"
      ]
     },
     "execution_count": 55,
     "metadata": {},
     "output_type": "execute_result"
    }
   ],
   "source": [
    "np.delete(z_k[-1], j)"
   ]
  },
  {
   "cell_type": "code",
   "execution_count": 46,
   "metadata": {},
   "outputs": [
    {
     "data": {
      "text/plain": [
       "(2200, 2800)"
      ]
     },
     "execution_count": 46,
     "metadata": {},
     "output_type": "execute_result"
    }
   ],
   "source": [
    "np.array(np.exp(w1+w2)).reshape(B.shape[0], A.shape[0])"
   ]
  },
  {
   "cell_type": "code",
   "execution_count": null,
   "metadata": {},
   "outputs": [],
   "source": [
    "np.random.choice(np.arange(A.shape[0]+B.shape[0]), p)"
   ]
  },
  {
   "cell_type": "code",
   "execution_count": 51,
   "metadata": {},
   "outputs": [
    {
     "data": {
      "text/plain": [
       "array([[   0,    0,    0, ...,    0,    0,    0],\n",
       "       [   1,    1,    1, ...,    1,    1,    1],\n",
       "       [   2,    2,    2, ...,    2,    2,    2],\n",
       "       ...,\n",
       "       [2197, 2197, 2197, ..., 2197, 2197, 2197],\n",
       "       [2198, 2198, 2198, ..., 2198, 2198, 2198],\n",
       "       [2199, 2199, 2199, ..., 2199, 2199, 2199]])"
      ]
     },
     "execution_count": 51,
     "metadata": {},
     "output_type": "execute_result"
    }
   ],
   "source": [
    "np.array(AB.filter(regex=\"source_index_B\")).reshape( B.shape[0], A.shape[0],)"
   ]
  },
  {
   "cell_type": "code",
   "execution_count": 50,
   "metadata": {},
   "outputs": [
    {
     "data": {
      "text/plain": [
       "array([[   0,    0,    0, ...,    0,    0,    0],\n",
       "       [   0,    0,    0, ...,    1,    1,    1],\n",
       "       [   1,    1,    1, ...,    2,    2,    2],\n",
       "       ...,\n",
       "       [2197, 2197, 2197, ..., 2198, 2198, 2198],\n",
       "       [2198, 2198, 2198, ..., 2199, 2199, 2199],\n",
       "       [2199, 2199, 2199, ..., 2199, 2199, 2199]])"
      ]
     },
     "execution_count": 50,
     "metadata": {},
     "output_type": "execute_result"
    }
   ],
   "source": [
    "np.array(AB.filter(regex=\"source_index_B\")).reshape( A.shape[0], B.shape[0])"
   ]
  },
  {
   "cell_type": "code",
   "execution_count": 63,
   "metadata": {},
   "outputs": [
    {
     "data": {
      "text/plain": [
       "array([-4616.20702877, -4723.47099306, -4612.39435274, -4611.17184777,\n",
       "       -4611.29261829, -4421.83130061, -4614.27861164, -4615.23289085,\n",
       "       -4611.87841234, -4616.88101574, -4734.35485002, -4612.7684864 ,\n",
       "       -4645.26918847, -4615.75557251, -4612.14151868, -4502.96125641,\n",
       "       -4501.25730073, -4616.93414224, -4619.6552678 , -4611.91790945,\n",
       "       -4612.67831245, -4470.72403295, -4613.36683558, -4611.40406068,\n",
       "       -4612.35739281, -4652.98793294, -4615.82487373, -4684.65668473,\n",
       "       -4616.17899297, -4630.27275893, -4617.73209382, -4713.78898317,\n",
       "       -4758.03880152, -4616.32907795, -4635.93313419, -4783.27154662,\n",
       "       -4612.02873863, -4614.72871071, -4503.02962037, -4611.16916207,\n",
       "       -4611.16043904, -4704.40190382, -4611.21317651, -4612.32472759,\n",
       "       -4670.81338856, -4641.44790283, -4688.77715008, -4620.02177454,\n",
       "       -4659.31281746, -4517.24026954, -4612.78805354, -4624.2181627 ,\n",
       "       -4731.69496636, -4712.16807475, -4615.48772   , -4611.6012203 ,\n",
       "       -4615.49701902, -4611.10275114, -4411.85282899, -4616.2581389 ,\n",
       "       -4612.79046162, -4658.98078749, -4632.76471049, -4621.66710913,\n",
       "       -4618.30376315, -4592.28120423, -4615.47134767, -4621.13876644,\n",
       "       -4612.18015568, -4612.86247154, -4611.1119966 , -4618.24158908,\n",
       "       -4622.87985836, -4613.04866788, -4610.98514019, -4678.95332756,\n",
       "       -4611.56510686, -4611.9017306 , -4613.10229724, -4611.91082444,\n",
       "       -4612.02418191, -4659.56094042, -4611.02653639, -4540.6430663 ,\n",
       "       -4476.99889294, -4611.4222556 , -4611.30119674, -4624.11485303,\n",
       "       -4619.68418442, -4728.05866361, -4641.99266652, -4612.28509972,\n",
       "       -4611.1888753 , -4615.5318542 , -4625.43445035, -4405.18907162,\n",
       "       -4613.08610963, -4611.17226518, -4612.45347466, -4619.02856891,\n",
       "       -4611.44301632, -4656.35558097, -4611.52526196, -4611.77534549,\n",
       "       -4611.10758184, -4395.66223085, -4542.13926979, -4613.16417592,\n",
       "       -4616.10664688, -4652.04840373, -4721.62489261, -4611.30023516,\n",
       "       -4611.09586795, -4675.02763843, -4616.65891141, -4611.0642798 ,\n",
       "       -4631.40626144, -4567.49698403, -4612.18993339, -4626.02183907,\n",
       "       -4611.0179335 , -4687.24612762, -4611.33816311, -4689.87233344,\n",
       "       -4562.42489987, -4622.74099493, -4611.66290734, -4611.22868825,\n",
       "       -4624.71265567, -4611.02200387, -4611.27300339, -4622.38015487,\n",
       "       -4611.05400035, -4611.19539391, -4572.1968592 , -4752.09816285,\n",
       "       -4615.17568793, -4611.12970687, -4616.61408948, -4614.60764391,\n",
       "       -4638.53325054, -4616.77164302, -4611.39306343, -4611.92254084,\n",
       "       -4641.26951285, -4480.71757541, -4618.27947929, -4612.27423497,\n",
       "       -4611.56160725, -4616.25624853, -4530.73575005, -4611.85334179,\n",
       "       -4611.31507243, -4484.31068328, -4613.48774793, -4667.23066133,\n",
       "       -4737.93969593, -4638.95924122, -4612.13061492, -4629.59412251,\n",
       "       -4683.34655052, -4466.23206641, -4612.37868407, -4736.21869958,\n",
       "       -4728.41840987, -4611.47152843, -4670.97437904, -4638.93476109,\n",
       "       -4615.59037608, -4612.16227159, -4643.83476127, -4617.22299576,\n",
       "       -4611.92862778, -4556.08879676, -4611.60423582, -4611.25062119,\n",
       "       -4526.94040514, -4611.70574363, -4615.86574345, -4660.44245681,\n",
       "       -4611.79691765, -4618.66707818, -4615.88463167, -4661.19669838,\n",
       "       -4611.25636574, -4524.61741819, -4613.83548531, -4657.7563584 ,\n",
       "       -4612.79481685, -4612.90335658, -4580.55446419, -4611.01329566,\n",
       "       -4614.32433408, -4611.21814019, -4613.79735168, -4612.87413184,\n",
       "       -4721.23791079, -4622.17443837, -4611.08432369, -4732.90184961,\n",
       "       -4611.92716419, -4611.71001142, -4614.43989571, -4611.21468285,\n",
       "       -4611.30278675, -4613.41508925, -4614.05731434, -4611.27527671,\n",
       "       -4622.26769579, -4615.94564949, -4617.60723332, -4611.23473822,\n",
       "       -4611.12698571, -4611.21651181, -4497.69208528, -4611.55514489,\n",
       "       -4612.37873678, -4613.27604539, -4612.04350898, -4611.33786182,\n",
       "       -4632.6965186 , -4614.8178152 , -4421.54950827, -4611.09369534,\n",
       "       -4611.24363022, -4627.74879027, -4618.62213029, -4611.80237278,\n",
       "       -4618.78737178, -4511.29738311, -4612.55003534, -4614.5887462 ,\n",
       "       -4679.50707428, -4611.26707403, -4611.12789077, -4611.49774621,\n",
       "       -4611.04592608, -4611.20352683, -4733.91207407, -4706.96574076,\n",
       "       -4674.05237383, -4614.94377082, -4644.45372543, -4616.15908527,\n",
       "       -4627.77279585, -4463.80248782, -4631.53218564, -4611.25814309,\n",
       "       -4611.27322709, -4404.02051496, -4619.36453723, -4611.07162316,\n",
       "       -4617.62722838, -4664.44242142, -4611.55835977, -4611.16307398,\n",
       "       -4615.00129596, -4613.61502451, -4612.22776137, -4611.76507844,\n",
       "       -4719.07360018, -4660.39575993, -4613.80898366, -4611.04947211,\n",
       "       -4414.28792097, -4477.71687144, -4611.70268087, -4611.96270938,\n",
       "       -4611.70314894, -4611.19741489, -4697.79555268, -4610.98024295,\n",
       "       -4617.44059696, -4619.90963856, -4611.59435797, -4614.81913244,\n",
       "       -4619.28332684, -4612.25583211, -4616.60537883, -4612.29304953,\n",
       "       -4611.99229467, -4611.20623906, -4613.62067381, -4613.29174503,\n",
       "       -4612.17043355, -4696.17816784, -4523.2664941 , -4612.00947015,\n",
       "       -4571.92716993, -4606.62649011, -4630.377569  , -4623.47476014,\n",
       "       -4612.79285023, -4621.0306648 , -4614.31386453, -4405.71199489,\n",
       "       -4612.76426572, -4612.30088575, -4616.69664814, -4635.31766161,\n",
       "       -4620.31128862, -4611.98412584, -4656.66197384, -4614.09752254,\n",
       "       -4615.09423894, -4611.45454904, -4617.87261633, -4611.57804635,\n",
       "       -4611.15902957, -4718.85952681, -4668.71083039, -4614.57419239,\n",
       "       -4611.30434145, -4611.2844309 , -4615.24210357, -4611.29276637,\n",
       "       -4616.48726883, -4614.23525634, -4611.44151251, -4613.97166876,\n",
       "       -4613.91544647, -4611.27411334, -4625.03616156, -4611.58969694,\n",
       "       -4636.18589489, -4611.84635633, -4611.21445572, -4621.41982987,\n",
       "       -4611.03235566, -4611.59878273, -4624.93055697, -4618.88078241,\n",
       "       -4612.1894396 , -4626.71648991, -4614.20242328, -4630.44141858,\n",
       "       -4632.73881212, -4658.92764652, -4615.2630168 , -4786.21115665,\n",
       "       -4611.11593674, -4613.17607579, -4611.44105006, -4626.10261416,\n",
       "       -4611.87203023, -4611.63316648, -4632.54919301, -4464.48895925,\n",
       "       -4616.76643718, -4611.03090845, -4621.33190034, -4611.24546531,\n",
       "       -4613.81713575, -4612.25617906, -4612.32902514, -4621.09205195,\n",
       "       -4611.61329409, -4616.62773421, -4621.14216391, -4611.48927514,\n",
       "       -4611.20856441, -4621.16376164, -4685.24684511, -4621.9638677 ,\n",
       "       -4611.24628363, -4626.34487609, -4611.10871292, -4615.80089133,\n",
       "       -4611.69912871, -4665.85853444, -4616.96495848, -4643.55395616,\n",
       "       -4613.03414941, -4612.9574726 , -4612.05220634, -4612.21939899,\n",
       "       -4635.01072387, -4711.68802953, -4612.28584044, -4620.50331364,\n",
       "       -4678.23480022, -4630.18411662, -4611.88788588, -4611.65258486,\n",
       "       -4620.60185672, -4547.04507839, -4760.68499984, -4542.43736761,\n",
       "       -4614.35194523, -4614.77365742, -4396.9425155 , -4611.1182474 ,\n",
       "       -4611.11005182, -4612.1693189 , -4614.83244897, -4613.86020331,\n",
       "       -4615.18542125, -4757.43602081, -4611.0178228 , -4611.09512239,\n",
       "       -4614.52834358, -4711.97621288, -4672.17376128, -4611.76931609,\n",
       "       -4612.88893695, -4627.0323368 , -4624.34119194, -4613.41012514,\n",
       "       -4619.537983  , -4623.42084339, -4611.83388733, -4617.07995199,\n",
       "       -4427.6287146 , -4611.03060411, -4617.88263131, -4640.59213734,\n",
       "       -4611.19371445, -4614.37637327, -4650.26570861, -4611.1150629 ,\n",
       "       -4616.96114943, -4611.33270581, -4620.27155749, -4635.36751363,\n",
       "       -4616.5339961 , -4611.97617134, -4611.18565834, -4617.79721377,\n",
       "       -4611.51795548, -4783.38593876, -4615.90806219, -4612.53094886,\n",
       "       -4612.19823223, -4611.53312366, -4630.70209203, -4400.98391728,\n",
       "       -4611.05151555, -4611.69724803, -4612.72738864, -4505.943427  ,\n",
       "       -4611.32174993, -4611.89927387, -4616.92754154, -4617.1737341 ,\n",
       "       -4611.14308147, -4614.65158229, -4646.04416174, -4619.63874667,\n",
       "       -4611.48770876, -4614.53868777, -4613.05005753, -4628.22588135,\n",
       "       -4611.65147264, -4611.19425443, -4611.01412766, -4611.71742456,\n",
       "       -4674.84016141, -4623.79739315, -4455.02062555, -4527.04037862,\n",
       "       -4614.00245864, -4731.96205138, -4611.59459028, -4623.27740572,\n",
       "       -4614.22308938, -4612.54267965, -4613.74679781, -4611.52587674,\n",
       "       -4611.67876581, -4611.43669537, -4633.51196485, -4612.47235156,\n",
       "       -4633.42608793, -4619.37425781, -4615.1634921 , -4611.59530885,\n",
       "       -4617.85951231, -4611.46272123, -4611.37680877, -4611.66659784,\n",
       "       -4612.6981581 , -4707.0804907 , -4611.03332559, -4611.28933715,\n",
       "       -4618.25249676, -4616.45395326, -4611.36115683, -4611.1452717 ,\n",
       "       -4616.02487292, -4671.02232439, -4619.54624524, -4614.61141503,\n",
       "       -4611.16970014, -4620.54718249, -4619.96039681, -4611.93763548,\n",
       "       -4573.88339595, -4611.8109088 , -4611.35955916, -4611.18439069,\n",
       "       -4612.18398874, -4611.09645276, -4510.18916522, -4475.02415965,\n",
       "       -4611.07179569, -4611.10778164, -4737.03184208, -4689.63350905,\n",
       "       -4656.88923667, -4612.88465721, -4620.91936077, -4616.81500602,\n",
       "       -4611.61466153, -4611.0088594 , -4613.9464165 , -4611.84510814,\n",
       "       -4639.89968626, -4673.19170899, -4539.40936726, -4679.66342454,\n",
       "       -4616.38042846, -4628.70076471, -4736.45227542, -4611.9783969 ,\n",
       "       -4612.74311922, -4612.91724027, -4505.58248195, -4642.39574784,\n",
       "       -4611.53251294, -4640.48925134, -4614.55112741, -4643.31615331,\n",
       "       -4781.4827271 , -4619.88988692, -4612.56315601, -4615.81079465,\n",
       "       -4625.20298257, -4516.59056725, -4477.45352576, -4611.54670537,\n",
       "       -4611.38761541, -4611.05417289, -4611.15557709, -4611.27172544,\n",
       "       -4677.56302353, -4611.30282033, -4664.83323711, -4513.8142352 ,\n",
       "       -4611.50700367, -4620.63828553, -4624.06061242, -4615.12963882,\n",
       "       -4671.31653893, -4613.82130099, -4677.43465038, -4646.08511   ,\n",
       "       -4612.43596324, -4620.53940647, -4674.82327301, -4618.35419765,\n",
       "       -4787.31691142, -4619.8956019 , -4643.14085475, -4652.63639846,\n",
       "       -4611.51254859, -4622.78885645, -4611.72899011, -4623.01357255,\n",
       "       -4615.24579728, -4611.36016887, -4402.34646074, -4611.27943267,\n",
       "       -4613.91493488, -4612.70091791, -4613.9317336 , -4525.23642506,\n",
       "       -4645.79996631, -4505.44770603, -4612.10820506, -4650.27824594,\n",
       "       -4611.15191755, -4612.19205785, -4656.20499729, -4611.03598046,\n",
       "       -4707.66947576, -4626.01793877, -4611.0601272 , -4616.02968898,\n",
       "       -4611.15325149, -4611.38943857, -4611.39019078, -4611.63139713,\n",
       "       -4612.58665999, -4482.50877456, -4619.03943413, -4611.28273624,\n",
       "       -4610.99805864, -4622.91002214, -4612.04201315, -4611.9089014 ,\n",
       "       -4701.34495325, -4614.43587726, -4670.44638759, -4416.36714368,\n",
       "       -4611.05937066, -4644.02996155, -4612.2523669 , -4629.44688089,\n",
       "       -4707.58754723, -4612.68773228, -4658.24191832, -4527.39943832,\n",
       "       -4613.50780897, -4627.59146081, -4611.07161717, -4523.60394872,\n",
       "       -4610.9806162 , -4612.53402105, -4597.33294862, -4495.78446039,\n",
       "       -4611.59512769, -4612.17280952, -4611.57709677, -4623.07068651,\n",
       "       -4657.84438072, -4632.51812953, -4611.58292969, -4663.91737678,\n",
       "       -4618.33407322, -4664.47025984, -4624.80570285, -4657.77079413,\n",
       "       -4611.2765266 , -4678.74506835, -4611.50255166, -4613.80789619,\n",
       "       -4616.20072047, -4614.52210627, -4623.09635281, -4612.35118982,\n",
       "       -4620.60237525, -4665.52952042, -4614.33927477, -4404.15070669,\n",
       "       -4616.98719777, -4615.38592616, -4612.68567547, -4613.56367774,\n",
       "       -4611.56366145, -4611.08684655, -4739.92378643, -4624.76405591,\n",
       "       -4611.0373119 , -4653.90823274, -4612.85606472, -4611.57283862,\n",
       "       -4634.81567606, -4601.51653099, -4611.10065696, -4622.84720092,\n",
       "       -4611.34119034, -4615.23273904, -4611.59484098, -4622.45406794,\n",
       "       -4518.74798563, -4708.49109147, -4614.36237831, -4629.41045305,\n",
       "       -4611.38064349, -4615.82557015, -4546.67087464, -4612.66367157,\n",
       "       -4511.65352613, -4611.33168192, -4621.13838814, -4618.39974308,\n",
       "       -4611.29243628, -4611.13161172, -4611.69968553, -4614.58976301,\n",
       "       -4612.73062973, -4611.19258409, -4611.53930041, -4632.60453072,\n",
       "       -4635.28927086, -4613.33493681, -4660.59149117, -4620.33394562,\n",
       "       -4611.42688483, -4635.3090798 , -4440.01253749, -4619.63491045,\n",
       "       -4675.10225606, -4616.86453588, -4611.05379658, -4630.00585825,\n",
       "       -4611.00614125, -4668.50899979, -4611.25967508, -4419.2154836 ,\n",
       "       -4611.95776065, -4611.21214308, -4611.10846074, -4611.02376055,\n",
       "       -4611.04690063, -4617.25303331, -4630.64734984, -4611.20898962,\n",
       "       -4631.44033074, -4413.79865016, -4612.39959322, -4625.96771653,\n",
       "       -4613.88856717, -4650.57964284, -4611.526242  , -4612.43444113,\n",
       "       -4612.26953413, -4611.46748726, -4641.35310336, -4623.0247511 ,\n",
       "       -4615.42289041, -4618.64924727, -4619.77754819, -4618.65293571,\n",
       "       -4616.72307169, -4746.40177942, -4611.64047125, -4612.04558077,\n",
       "       -4616.96201386, -4611.14183887, -4642.56449758, -4612.88239054,\n",
       "       -4743.77323725, -4612.60831307, -4611.40340571, -4611.43484487,\n",
       "       -4634.18389669, -4625.09953348, -4611.34308277, -4623.47957749,\n",
       "       -4611.17932212, -4612.83074429, -4635.62092517, -4650.8634968 ,\n",
       "       -4611.98880423, -4617.09611973, -4531.92220704, -4611.68150455,\n",
       "       -4461.59946012, -4613.14821836, -4611.67577789, -4623.80570906,\n",
       "       -4611.25661822, -4620.34235433, -4690.31016293, -4535.39720099,\n",
       "       -4707.60527386, -4575.50589285, -4613.02063712, -4621.81943878,\n",
       "       -4615.79072254, -4613.40288667, -4611.20761716, -4647.73623975,\n",
       "       -4471.22256729, -4611.33996604, -4689.92607609, -4612.78796496,\n",
       "       -4611.26040941, -4611.20335054, -4611.2523574 , -4611.24212436,\n",
       "       -4534.59392363, -4612.36495332, -4633.30560565, -4611.1768857 ,\n",
       "       -4611.24866574, -4627.39801096, -4610.99418302, -4634.90649224,\n",
       "       -4617.05333482, -4617.83352463, -4433.47690426, -4642.70396532,\n",
       "       -4659.91969824])"
      ]
     },
     "execution_count": 63,
     "metadata": {},
     "output_type": "execute_result"
    }
   ],
   "source": [
    "# q in index A\n",
    "# j in index B\n",
    "# pair (q,j)\n",
    "\n",
    "w1 = (np.multiply(comparisons, np.log(theta_m_k[-1]/theta_u_k[-1])) + np.multiply(1-comparisons, np.log2((1-match)/(1-unmatch)))).sum(axis=1)\n"
   ]
  },
  {
   "cell_type": "code",
   "execution_count": 53,
   "metadata": {},
   "outputs": [
    {
     "data": {
      "text/plain": [
       "1        77.485676\n",
       "2        93.317290\n",
       "3        55.752384\n",
       "4         3.494127\n",
       "5       107.302317\n",
       "           ...    \n",
       "2794     65.225749\n",
       "2796    226.917124\n",
       "2797     32.833933\n",
       "2798    174.066581\n",
       "2799      8.667763\n",
       "Name: Y, Length: 2015, dtype: float64"
      ]
     },
     "execution_count": 53,
     "metadata": {},
     "output_type": "execute_result"
    }
   ],
   "source": [
    "(A.iloc[~A.index.isin(idx_A),:].Y - mu2_k[-1])**2 "
   ]
  },
  {
   "cell_type": "code",
   "execution_count": 19,
   "metadata": {},
   "outputs": [
    {
     "name": "stdout",
     "output_type": "stream",
     "text": [
      "18.5 ms ± 2.15 ms per loop (mean ± std. dev. of 7 runs, 100 loops each)\n"
     ]
    }
   ],
   "source": [
    "%timeit scipy.linalg.cho_solve(scipy.linalg.cho_factor(sigma_matrix_test,lower=True), np.eye(sigma_matrix_test.shape[0]))"
   ]
  },
  {
   "cell_type": "code",
   "execution_count": 21,
   "metadata": {},
   "outputs": [
    {
     "name": "stdout",
     "output_type": "stream",
     "text": [
      "16.4 ms ± 394 µs per loop (mean ± std. dev. of 7 runs, 100 loops each)\n"
     ]
    }
   ],
   "source": [
    "%timeit np.linalg.inv(sigma_matrix_test)"
   ]
  },
  {
   "cell_type": "code",
   "execution_count": null,
   "metadata": {},
   "outputs": [],
   "source": []
  }
 ],
 "metadata": {
  "kernelspec": {
   "display_name": "tester",
   "language": "python",
   "name": "python3"
  },
  "language_info": {
   "codemirror_mode": {
    "name": "ipython",
    "version": 3
   },
   "file_extension": ".py",
   "mimetype": "text/x-python",
   "name": "python",
   "nbconvert_exporter": "python",
   "pygments_lexer": "ipython3",
   "version": "3.10.6"
  },
  "orig_nbformat": 4,
  "vscode": {
   "interpreter": {
    "hash": "b95706f4894ee4355943f31879e0e3a76d825289e1bc7e0d16bc1dcbc4ba3b09"
   }
  }
 },
 "nbformat": 4,
 "nbformat_minor": 2
}
